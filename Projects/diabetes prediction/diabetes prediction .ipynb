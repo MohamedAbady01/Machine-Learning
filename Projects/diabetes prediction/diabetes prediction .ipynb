{
 "cells": [
  {
   "cell_type": "code",
   "execution_count": 2,
   "id": "ff277036",
   "metadata": {
    "ExecuteTime": {
     "end_time": "2022-07-06T15:11:16.202092Z",
     "start_time": "2022-07-06T15:11:13.189987Z"
    }
   },
   "outputs": [],
   "source": [
    "import numpy as np\n",
    "import pandas as pd \n",
    "import matplotlib.pyplot as plt "
   ]
  },
  {
   "cell_type": "markdown",
   "id": "2bd7d62f",
   "metadata": {},
   "source": [
    "<h4>Getting the data </h4>\n"
   ]
  },
  {
   "cell_type": "code",
   "execution_count": 3,
   "id": "265bdbc0",
   "metadata": {
    "ExecuteTime": {
     "end_time": "2022-07-06T15:11:16.233399Z",
     "start_time": "2022-07-06T15:11:16.202092Z"
    }
   },
   "outputs": [],
   "source": [
    "Data  = pd.read_csv('diabetes.csv')"
   ]
  },
  {
   "cell_type": "code",
   "execution_count": 4,
   "id": "90e1c090",
   "metadata": {
    "ExecuteTime": {
     "end_time": "2022-07-06T15:11:16.280403Z",
     "start_time": "2022-07-06T15:11:16.233399Z"
    },
    "run_control": {
     "marked": true
    }
   },
   "outputs": [
    {
     "data": {
      "text/html": [
       "<div>\n",
       "<style scoped>\n",
       "    .dataframe tbody tr th:only-of-type {\n",
       "        vertical-align: middle;\n",
       "    }\n",
       "\n",
       "    .dataframe tbody tr th {\n",
       "        vertical-align: top;\n",
       "    }\n",
       "\n",
       "    .dataframe thead th {\n",
       "        text-align: right;\n",
       "    }\n",
       "</style>\n",
       "<table border=\"1\" class=\"dataframe\">\n",
       "  <thead>\n",
       "    <tr style=\"text-align: right;\">\n",
       "      <th></th>\n",
       "      <th>Pregnancies</th>\n",
       "      <th>Glucose</th>\n",
       "      <th>BloodPressure</th>\n",
       "      <th>SkinThickness</th>\n",
       "      <th>Insulin</th>\n",
       "      <th>BMI</th>\n",
       "      <th>DiabetesPedigreeFunction</th>\n",
       "      <th>Age</th>\n",
       "      <th>Outcome</th>\n",
       "    </tr>\n",
       "  </thead>\n",
       "  <tbody>\n",
       "    <tr>\n",
       "      <th>0</th>\n",
       "      <td>6</td>\n",
       "      <td>148</td>\n",
       "      <td>72</td>\n",
       "      <td>35</td>\n",
       "      <td>0</td>\n",
       "      <td>33.6</td>\n",
       "      <td>0.627</td>\n",
       "      <td>50</td>\n",
       "      <td>1</td>\n",
       "    </tr>\n",
       "    <tr>\n",
       "      <th>1</th>\n",
       "      <td>1</td>\n",
       "      <td>85</td>\n",
       "      <td>66</td>\n",
       "      <td>29</td>\n",
       "      <td>0</td>\n",
       "      <td>26.6</td>\n",
       "      <td>0.351</td>\n",
       "      <td>31</td>\n",
       "      <td>0</td>\n",
       "    </tr>\n",
       "    <tr>\n",
       "      <th>2</th>\n",
       "      <td>8</td>\n",
       "      <td>183</td>\n",
       "      <td>64</td>\n",
       "      <td>0</td>\n",
       "      <td>0</td>\n",
       "      <td>23.3</td>\n",
       "      <td>0.672</td>\n",
       "      <td>32</td>\n",
       "      <td>1</td>\n",
       "    </tr>\n",
       "    <tr>\n",
       "      <th>3</th>\n",
       "      <td>1</td>\n",
       "      <td>89</td>\n",
       "      <td>66</td>\n",
       "      <td>23</td>\n",
       "      <td>94</td>\n",
       "      <td>28.1</td>\n",
       "      <td>0.167</td>\n",
       "      <td>21</td>\n",
       "      <td>0</td>\n",
       "    </tr>\n",
       "    <tr>\n",
       "      <th>4</th>\n",
       "      <td>0</td>\n",
       "      <td>137</td>\n",
       "      <td>40</td>\n",
       "      <td>35</td>\n",
       "      <td>168</td>\n",
       "      <td>43.1</td>\n",
       "      <td>2.288</td>\n",
       "      <td>33</td>\n",
       "      <td>1</td>\n",
       "    </tr>\n",
       "  </tbody>\n",
       "</table>\n",
       "</div>"
      ],
      "text/plain": [
       "   Pregnancies  Glucose  BloodPressure  SkinThickness  Insulin   BMI  \\\n",
       "0            6      148             72             35        0  33.6   \n",
       "1            1       85             66             29        0  26.6   \n",
       "2            8      183             64              0        0  23.3   \n",
       "3            1       89             66             23       94  28.1   \n",
       "4            0      137             40             35      168  43.1   \n",
       "\n",
       "   DiabetesPedigreeFunction  Age  Outcome  \n",
       "0                     0.627   50        1  \n",
       "1                     0.351   31        0  \n",
       "2                     0.672   32        1  \n",
       "3                     0.167   21        0  \n",
       "4                     2.288   33        1  "
      ]
     },
     "execution_count": 4,
     "metadata": {},
     "output_type": "execute_result"
    }
   ],
   "source": [
    "#get the first 5 rows\n",
    "Data.head()"
   ]
  },
  {
   "cell_type": "code",
   "execution_count": 5,
   "id": "d13c84fb",
   "metadata": {
    "ExecuteTime": {
     "end_time": "2022-07-06T15:11:16.318276Z",
     "start_time": "2022-07-06T15:11:16.280403Z"
    }
   },
   "outputs": [
    {
     "data": {
      "text/plain": [
       "(768, 9)"
      ]
     },
     "execution_count": 5,
     "metadata": {},
     "output_type": "execute_result"
    }
   ],
   "source": [
    "Data.shape"
   ]
  },
  {
   "cell_type": "code",
   "execution_count": 6,
   "id": "b50bcf02",
   "metadata": {
    "ExecuteTime": {
     "end_time": "2022-07-06T15:11:16.349398Z",
     "start_time": "2022-07-06T15:11:16.318276Z"
    }
   },
   "outputs": [
    {
     "data": {
      "text/plain": [
       "0    500\n",
       "1    268\n",
       "Name: Outcome, dtype: int64"
      ]
     },
     "execution_count": 6,
     "metadata": {},
     "output_type": "execute_result"
    }
   ],
   "source": [
    "Data.Outcome.value_counts()"
   ]
  },
  {
   "cell_type": "code",
   "execution_count": 7,
   "id": "64af6cf5",
   "metadata": {
    "ExecuteTime": {
     "end_time": "2022-07-06T15:11:16.449755Z",
     "start_time": "2022-07-06T15:11:16.349398Z"
    },
    "run_control": {
     "marked": true
    }
   },
   "outputs": [
    {
     "data": {
      "text/html": [
       "<div>\n",
       "<style scoped>\n",
       "    .dataframe tbody tr th:only-of-type {\n",
       "        vertical-align: middle;\n",
       "    }\n",
       "\n",
       "    .dataframe tbody tr th {\n",
       "        vertical-align: top;\n",
       "    }\n",
       "\n",
       "    .dataframe thead th {\n",
       "        text-align: right;\n",
       "    }\n",
       "</style>\n",
       "<table border=\"1\" class=\"dataframe\">\n",
       "  <thead>\n",
       "    <tr style=\"text-align: right;\">\n",
       "      <th></th>\n",
       "      <th>Pregnancies</th>\n",
       "      <th>Glucose</th>\n",
       "      <th>BloodPressure</th>\n",
       "      <th>SkinThickness</th>\n",
       "      <th>Insulin</th>\n",
       "      <th>BMI</th>\n",
       "      <th>DiabetesPedigreeFunction</th>\n",
       "      <th>Age</th>\n",
       "      <th>Outcome</th>\n",
       "    </tr>\n",
       "  </thead>\n",
       "  <tbody>\n",
       "    <tr>\n",
       "      <th>count</th>\n",
       "      <td>768.000000</td>\n",
       "      <td>768.000000</td>\n",
       "      <td>768.000000</td>\n",
       "      <td>768.000000</td>\n",
       "      <td>768.000000</td>\n",
       "      <td>768.000000</td>\n",
       "      <td>768.000000</td>\n",
       "      <td>768.000000</td>\n",
       "      <td>768.000000</td>\n",
       "    </tr>\n",
       "    <tr>\n",
       "      <th>mean</th>\n",
       "      <td>3.845052</td>\n",
       "      <td>120.894531</td>\n",
       "      <td>69.105469</td>\n",
       "      <td>20.536458</td>\n",
       "      <td>79.799479</td>\n",
       "      <td>31.992578</td>\n",
       "      <td>0.471876</td>\n",
       "      <td>33.240885</td>\n",
       "      <td>0.348958</td>\n",
       "    </tr>\n",
       "    <tr>\n",
       "      <th>std</th>\n",
       "      <td>3.369578</td>\n",
       "      <td>31.972618</td>\n",
       "      <td>19.355807</td>\n",
       "      <td>15.952218</td>\n",
       "      <td>115.244002</td>\n",
       "      <td>7.884160</td>\n",
       "      <td>0.331329</td>\n",
       "      <td>11.760232</td>\n",
       "      <td>0.476951</td>\n",
       "    </tr>\n",
       "    <tr>\n",
       "      <th>min</th>\n",
       "      <td>0.000000</td>\n",
       "      <td>0.000000</td>\n",
       "      <td>0.000000</td>\n",
       "      <td>0.000000</td>\n",
       "      <td>0.000000</td>\n",
       "      <td>0.000000</td>\n",
       "      <td>0.078000</td>\n",
       "      <td>21.000000</td>\n",
       "      <td>0.000000</td>\n",
       "    </tr>\n",
       "    <tr>\n",
       "      <th>25%</th>\n",
       "      <td>1.000000</td>\n",
       "      <td>99.000000</td>\n",
       "      <td>62.000000</td>\n",
       "      <td>0.000000</td>\n",
       "      <td>0.000000</td>\n",
       "      <td>27.300000</td>\n",
       "      <td>0.243750</td>\n",
       "      <td>24.000000</td>\n",
       "      <td>0.000000</td>\n",
       "    </tr>\n",
       "    <tr>\n",
       "      <th>50%</th>\n",
       "      <td>3.000000</td>\n",
       "      <td>117.000000</td>\n",
       "      <td>72.000000</td>\n",
       "      <td>23.000000</td>\n",
       "      <td>30.500000</td>\n",
       "      <td>32.000000</td>\n",
       "      <td>0.372500</td>\n",
       "      <td>29.000000</td>\n",
       "      <td>0.000000</td>\n",
       "    </tr>\n",
       "    <tr>\n",
       "      <th>75%</th>\n",
       "      <td>6.000000</td>\n",
       "      <td>140.250000</td>\n",
       "      <td>80.000000</td>\n",
       "      <td>32.000000</td>\n",
       "      <td>127.250000</td>\n",
       "      <td>36.600000</td>\n",
       "      <td>0.626250</td>\n",
       "      <td>41.000000</td>\n",
       "      <td>1.000000</td>\n",
       "    </tr>\n",
       "    <tr>\n",
       "      <th>max</th>\n",
       "      <td>17.000000</td>\n",
       "      <td>199.000000</td>\n",
       "      <td>122.000000</td>\n",
       "      <td>99.000000</td>\n",
       "      <td>846.000000</td>\n",
       "      <td>67.100000</td>\n",
       "      <td>2.420000</td>\n",
       "      <td>81.000000</td>\n",
       "      <td>1.000000</td>\n",
       "    </tr>\n",
       "  </tbody>\n",
       "</table>\n",
       "</div>"
      ],
      "text/plain": [
       "       Pregnancies     Glucose  BloodPressure  SkinThickness     Insulin  \\\n",
       "count   768.000000  768.000000     768.000000     768.000000  768.000000   \n",
       "mean      3.845052  120.894531      69.105469      20.536458   79.799479   \n",
       "std       3.369578   31.972618      19.355807      15.952218  115.244002   \n",
       "min       0.000000    0.000000       0.000000       0.000000    0.000000   \n",
       "25%       1.000000   99.000000      62.000000       0.000000    0.000000   \n",
       "50%       3.000000  117.000000      72.000000      23.000000   30.500000   \n",
       "75%       6.000000  140.250000      80.000000      32.000000  127.250000   \n",
       "max      17.000000  199.000000     122.000000      99.000000  846.000000   \n",
       "\n",
       "              BMI  DiabetesPedigreeFunction         Age     Outcome  \n",
       "count  768.000000                768.000000  768.000000  768.000000  \n",
       "mean    31.992578                  0.471876   33.240885    0.348958  \n",
       "std      7.884160                  0.331329   11.760232    0.476951  \n",
       "min      0.000000                  0.078000   21.000000    0.000000  \n",
       "25%     27.300000                  0.243750   24.000000    0.000000  \n",
       "50%     32.000000                  0.372500   29.000000    0.000000  \n",
       "75%     36.600000                  0.626250   41.000000    1.000000  \n",
       "max     67.100000                  2.420000   81.000000    1.000000  "
      ]
     },
     "execution_count": 7,
     "metadata": {},
     "output_type": "execute_result"
    }
   ],
   "source": [
    "Data.describe()"
   ]
  },
  {
   "cell_type": "markdown",
   "id": "8e476328",
   "metadata": {},
   "source": [
    "<h4>Make sure there's no nan values</h4>"
   ]
  },
  {
   "cell_type": "code",
   "execution_count": 8,
   "id": "62de1fe3",
   "metadata": {
    "ExecuteTime": {
     "end_time": "2022-07-06T15:11:16.465379Z",
     "start_time": "2022-07-06T15:11:16.449755Z"
    }
   },
   "outputs": [
    {
     "data": {
      "text/plain": [
       "0"
      ]
     },
     "execution_count": 8,
     "metadata": {},
     "output_type": "execute_result"
    }
   ],
   "source": [
    " \n",
    "i=0\n",
    "if Data.isnull == True :\n",
    "    i+=1\n",
    "    \n",
    "i"
   ]
  },
  {
   "cell_type": "code",
   "execution_count": 9,
   "id": "0cf97000",
   "metadata": {
    "ExecuteTime": {
     "end_time": "2022-07-06T15:11:16.518375Z",
     "start_time": "2022-07-06T15:11:16.465379Z"
    }
   },
   "outputs": [
    {
     "data": {
      "text/html": [
       "<div>\n",
       "<style scoped>\n",
       "    .dataframe tbody tr th:only-of-type {\n",
       "        vertical-align: middle;\n",
       "    }\n",
       "\n",
       "    .dataframe tbody tr th {\n",
       "        vertical-align: top;\n",
       "    }\n",
       "\n",
       "    .dataframe thead th {\n",
       "        text-align: right;\n",
       "    }\n",
       "</style>\n",
       "<table border=\"1\" class=\"dataframe\">\n",
       "  <thead>\n",
       "    <tr style=\"text-align: right;\">\n",
       "      <th></th>\n",
       "      <th>Pregnancies</th>\n",
       "      <th>Glucose</th>\n",
       "      <th>BloodPressure</th>\n",
       "      <th>SkinThickness</th>\n",
       "      <th>Insulin</th>\n",
       "      <th>BMI</th>\n",
       "      <th>DiabetesPedigreeFunction</th>\n",
       "      <th>Age</th>\n",
       "    </tr>\n",
       "    <tr>\n",
       "      <th>Outcome</th>\n",
       "      <th></th>\n",
       "      <th></th>\n",
       "      <th></th>\n",
       "      <th></th>\n",
       "      <th></th>\n",
       "      <th></th>\n",
       "      <th></th>\n",
       "      <th></th>\n",
       "    </tr>\n",
       "  </thead>\n",
       "  <tbody>\n",
       "    <tr>\n",
       "      <th>0</th>\n",
       "      <td>3.298000</td>\n",
       "      <td>109.980000</td>\n",
       "      <td>68.184000</td>\n",
       "      <td>19.664000</td>\n",
       "      <td>68.792000</td>\n",
       "      <td>30.304200</td>\n",
       "      <td>0.429734</td>\n",
       "      <td>31.190000</td>\n",
       "    </tr>\n",
       "    <tr>\n",
       "      <th>1</th>\n",
       "      <td>4.865672</td>\n",
       "      <td>141.257463</td>\n",
       "      <td>70.824627</td>\n",
       "      <td>22.164179</td>\n",
       "      <td>100.335821</td>\n",
       "      <td>35.142537</td>\n",
       "      <td>0.550500</td>\n",
       "      <td>37.067164</td>\n",
       "    </tr>\n",
       "  </tbody>\n",
       "</table>\n",
       "</div>"
      ],
      "text/plain": [
       "         Pregnancies     Glucose  BloodPressure  SkinThickness     Insulin  \\\n",
       "Outcome                                                                      \n",
       "0           3.298000  109.980000      68.184000      19.664000   68.792000   \n",
       "1           4.865672  141.257463      70.824627      22.164179  100.335821   \n",
       "\n",
       "               BMI  DiabetesPedigreeFunction        Age  \n",
       "Outcome                                                  \n",
       "0        30.304200                  0.429734  31.190000  \n",
       "1        35.142537                  0.550500  37.067164  "
      ]
     },
     "execution_count": 9,
     "metadata": {},
     "output_type": "execute_result"
    }
   ],
   "source": [
    "Data.groupby('Outcome').mean()"
   ]
  },
  {
   "cell_type": "markdown",
   "id": "3ad7e0bd",
   "metadata": {},
   "source": [
    "<h4>separating the data</h4>"
   ]
  },
  {
   "cell_type": "code",
   "execution_count": 10,
   "id": "b2d350ce",
   "metadata": {
    "ExecuteTime": {
     "end_time": "2022-07-06T15:11:16.549627Z",
     "start_time": "2022-07-06T15:11:16.518375Z"
    }
   },
   "outputs": [],
   "source": [
    "x = Data.drop(columns='Outcome',axis=1)"
   ]
  },
  {
   "cell_type": "code",
   "execution_count": 11,
   "id": "077e0603",
   "metadata": {
    "ExecuteTime": {
     "end_time": "2022-07-06T15:11:16.618838Z",
     "start_time": "2022-07-06T15:11:16.549627Z"
    }
   },
   "outputs": [
    {
     "data": {
      "text/html": [
       "<div>\n",
       "<style scoped>\n",
       "    .dataframe tbody tr th:only-of-type {\n",
       "        vertical-align: middle;\n",
       "    }\n",
       "\n",
       "    .dataframe tbody tr th {\n",
       "        vertical-align: top;\n",
       "    }\n",
       "\n",
       "    .dataframe thead th {\n",
       "        text-align: right;\n",
       "    }\n",
       "</style>\n",
       "<table border=\"1\" class=\"dataframe\">\n",
       "  <thead>\n",
       "    <tr style=\"text-align: right;\">\n",
       "      <th></th>\n",
       "      <th>Pregnancies</th>\n",
       "      <th>Glucose</th>\n",
       "      <th>BloodPressure</th>\n",
       "      <th>SkinThickness</th>\n",
       "      <th>Insulin</th>\n",
       "      <th>BMI</th>\n",
       "      <th>DiabetesPedigreeFunction</th>\n",
       "      <th>Age</th>\n",
       "    </tr>\n",
       "  </thead>\n",
       "  <tbody>\n",
       "    <tr>\n",
       "      <th>0</th>\n",
       "      <td>6</td>\n",
       "      <td>148</td>\n",
       "      <td>72</td>\n",
       "      <td>35</td>\n",
       "      <td>0</td>\n",
       "      <td>33.6</td>\n",
       "      <td>0.627</td>\n",
       "      <td>50</td>\n",
       "    </tr>\n",
       "    <tr>\n",
       "      <th>1</th>\n",
       "      <td>1</td>\n",
       "      <td>85</td>\n",
       "      <td>66</td>\n",
       "      <td>29</td>\n",
       "      <td>0</td>\n",
       "      <td>26.6</td>\n",
       "      <td>0.351</td>\n",
       "      <td>31</td>\n",
       "    </tr>\n",
       "    <tr>\n",
       "      <th>2</th>\n",
       "      <td>8</td>\n",
       "      <td>183</td>\n",
       "      <td>64</td>\n",
       "      <td>0</td>\n",
       "      <td>0</td>\n",
       "      <td>23.3</td>\n",
       "      <td>0.672</td>\n",
       "      <td>32</td>\n",
       "    </tr>\n",
       "    <tr>\n",
       "      <th>3</th>\n",
       "      <td>1</td>\n",
       "      <td>89</td>\n",
       "      <td>66</td>\n",
       "      <td>23</td>\n",
       "      <td>94</td>\n",
       "      <td>28.1</td>\n",
       "      <td>0.167</td>\n",
       "      <td>21</td>\n",
       "    </tr>\n",
       "    <tr>\n",
       "      <th>4</th>\n",
       "      <td>0</td>\n",
       "      <td>137</td>\n",
       "      <td>40</td>\n",
       "      <td>35</td>\n",
       "      <td>168</td>\n",
       "      <td>43.1</td>\n",
       "      <td>2.288</td>\n",
       "      <td>33</td>\n",
       "    </tr>\n",
       "    <tr>\n",
       "      <th>...</th>\n",
       "      <td>...</td>\n",
       "      <td>...</td>\n",
       "      <td>...</td>\n",
       "      <td>...</td>\n",
       "      <td>...</td>\n",
       "      <td>...</td>\n",
       "      <td>...</td>\n",
       "      <td>...</td>\n",
       "    </tr>\n",
       "    <tr>\n",
       "      <th>763</th>\n",
       "      <td>10</td>\n",
       "      <td>101</td>\n",
       "      <td>76</td>\n",
       "      <td>48</td>\n",
       "      <td>180</td>\n",
       "      <td>32.9</td>\n",
       "      <td>0.171</td>\n",
       "      <td>63</td>\n",
       "    </tr>\n",
       "    <tr>\n",
       "      <th>764</th>\n",
       "      <td>2</td>\n",
       "      <td>122</td>\n",
       "      <td>70</td>\n",
       "      <td>27</td>\n",
       "      <td>0</td>\n",
       "      <td>36.8</td>\n",
       "      <td>0.340</td>\n",
       "      <td>27</td>\n",
       "    </tr>\n",
       "    <tr>\n",
       "      <th>765</th>\n",
       "      <td>5</td>\n",
       "      <td>121</td>\n",
       "      <td>72</td>\n",
       "      <td>23</td>\n",
       "      <td>112</td>\n",
       "      <td>26.2</td>\n",
       "      <td>0.245</td>\n",
       "      <td>30</td>\n",
       "    </tr>\n",
       "    <tr>\n",
       "      <th>766</th>\n",
       "      <td>1</td>\n",
       "      <td>126</td>\n",
       "      <td>60</td>\n",
       "      <td>0</td>\n",
       "      <td>0</td>\n",
       "      <td>30.1</td>\n",
       "      <td>0.349</td>\n",
       "      <td>47</td>\n",
       "    </tr>\n",
       "    <tr>\n",
       "      <th>767</th>\n",
       "      <td>1</td>\n",
       "      <td>93</td>\n",
       "      <td>70</td>\n",
       "      <td>31</td>\n",
       "      <td>0</td>\n",
       "      <td>30.4</td>\n",
       "      <td>0.315</td>\n",
       "      <td>23</td>\n",
       "    </tr>\n",
       "  </tbody>\n",
       "</table>\n",
       "<p>768 rows × 8 columns</p>\n",
       "</div>"
      ],
      "text/plain": [
       "     Pregnancies  Glucose  BloodPressure  SkinThickness  Insulin   BMI  \\\n",
       "0              6      148             72             35        0  33.6   \n",
       "1              1       85             66             29        0  26.6   \n",
       "2              8      183             64              0        0  23.3   \n",
       "3              1       89             66             23       94  28.1   \n",
       "4              0      137             40             35      168  43.1   \n",
       "..           ...      ...            ...            ...      ...   ...   \n",
       "763           10      101             76             48      180  32.9   \n",
       "764            2      122             70             27        0  36.8   \n",
       "765            5      121             72             23      112  26.2   \n",
       "766            1      126             60              0        0  30.1   \n",
       "767            1       93             70             31        0  30.4   \n",
       "\n",
       "     DiabetesPedigreeFunction  Age  \n",
       "0                       0.627   50  \n",
       "1                       0.351   31  \n",
       "2                       0.672   32  \n",
       "3                       0.167   21  \n",
       "4                       2.288   33  \n",
       "..                        ...  ...  \n",
       "763                     0.171   63  \n",
       "764                     0.340   27  \n",
       "765                     0.245   30  \n",
       "766                     0.349   47  \n",
       "767                     0.315   23  \n",
       "\n",
       "[768 rows x 8 columns]"
      ]
     },
     "execution_count": 11,
     "metadata": {},
     "output_type": "execute_result"
    }
   ],
   "source": [
    "x"
   ]
  },
  {
   "cell_type": "code",
   "execution_count": 12,
   "id": "7d69b86d",
   "metadata": {
    "ExecuteTime": {
     "end_time": "2022-07-06T15:11:16.650070Z",
     "start_time": "2022-07-06T15:11:16.618838Z"
    },
    "scrolled": true
   },
   "outputs": [
    {
     "data": {
      "text/plain": [
       "0      1\n",
       "1      0\n",
       "2      1\n",
       "3      0\n",
       "4      1\n",
       "      ..\n",
       "763    0\n",
       "764    0\n",
       "765    0\n",
       "766    1\n",
       "767    0\n",
       "Name: Outcome, Length: 768, dtype: int64"
      ]
     },
     "execution_count": 12,
     "metadata": {},
     "output_type": "execute_result"
    }
   ],
   "source": [
    "y = Data.Outcome\n",
    "y"
   ]
  },
  {
   "cell_type": "markdown",
   "id": "3f4165d5",
   "metadata": {},
   "source": [
    "<h4> Standardize Data</h4>"
   ]
  },
  {
   "cell_type": "code",
   "execution_count": 13,
   "id": "a1fdb635",
   "metadata": {
    "ExecuteTime": {
     "end_time": "2022-07-06T15:11:18.485779Z",
     "start_time": "2022-07-06T15:11:16.650070Z"
    }
   },
   "outputs": [],
   "source": [
    "from sklearn.preprocessing import StandardScaler "
   ]
  },
  {
   "cell_type": "code",
   "execution_count": 14,
   "id": "2861d9b5",
   "metadata": {
    "ExecuteTime": {
     "end_time": "2022-07-06T15:11:18.501314Z",
     "start_time": "2022-07-06T15:11:18.485779Z"
    }
   },
   "outputs": [],
   "source": [
    "Data_scaler = StandardScaler()"
   ]
  },
  {
   "cell_type": "code",
   "execution_count": 15,
   "id": "6a9f67f7",
   "metadata": {
    "ExecuteTime": {
     "end_time": "2022-07-06T15:11:18.523547Z",
     "start_time": "2022-07-06T15:11:18.501314Z"
    }
   },
   "outputs": [],
   "source": [
    "scaled_data=Data_scaler.fit_transform(x)"
   ]
  },
  {
   "cell_type": "code",
   "execution_count": 16,
   "id": "4cf92ee0",
   "metadata": {
    "ExecuteTime": {
     "end_time": "2022-07-06T15:11:18.539165Z",
     "start_time": "2022-07-06T15:11:18.523547Z"
    }
   },
   "outputs": [],
   "source": [
    "x = scaled_data"
   ]
  },
  {
   "cell_type": "code",
   "execution_count": 17,
   "id": "c5e5fa1b",
   "metadata": {
    "ExecuteTime": {
     "end_time": "2022-07-06T15:11:18.570421Z",
     "start_time": "2022-07-06T15:11:18.539165Z"
    },
    "scrolled": true
   },
   "outputs": [
    {
     "data": {
      "text/plain": [
       "array([[ 0.63994726,  0.84832379,  0.14964075, ...,  0.20401277,\n",
       "         0.46849198,  1.4259954 ],\n",
       "       [-0.84488505, -1.12339636, -0.16054575, ..., -0.68442195,\n",
       "        -0.36506078, -0.19067191],\n",
       "       [ 1.23388019,  1.94372388, -0.26394125, ..., -1.10325546,\n",
       "         0.60439732, -0.10558415],\n",
       "       ...,\n",
       "       [ 0.3429808 ,  0.00330087,  0.14964075, ..., -0.73518964,\n",
       "        -0.68519336, -0.27575966],\n",
       "       [-0.84488505,  0.1597866 , -0.47073225, ..., -0.24020459,\n",
       "        -0.37110101,  1.17073215],\n",
       "       [-0.84488505, -0.8730192 ,  0.04624525, ..., -0.20212881,\n",
       "        -0.47378505, -0.87137393]])"
      ]
     },
     "execution_count": 17,
     "metadata": {},
     "output_type": "execute_result"
    }
   ],
   "source": [
    "x"
   ]
  },
  {
   "cell_type": "markdown",
   "id": "d8f0d98a",
   "metadata": {},
   "source": [
    "<h4>Train and Test </h4>"
   ]
  },
  {
   "cell_type": "code",
   "execution_count": 18,
   "id": "537b979c",
   "metadata": {
    "ExecuteTime": {
     "end_time": "2022-07-06T15:11:18.724245Z",
     "start_time": "2022-07-06T15:11:18.570421Z"
    }
   },
   "outputs": [],
   "source": [
    "from sklearn.model_selection import train_test_split"
   ]
  },
  {
   "cell_type": "code",
   "execution_count": 19,
   "id": "2b352a42",
   "metadata": {
    "ExecuteTime": {
     "end_time": "2022-07-06T15:11:18.755599Z",
     "start_time": "2022-07-06T15:11:18.724245Z"
    }
   },
   "outputs": [],
   "source": [
    "x_train , x_test , y_train , y_test = train_test_split(x,y,stratify=y,train_size=.85 , random_state=1)"
   ]
  },
  {
   "cell_type": "markdown",
   "id": "5f28cde4",
   "metadata": {},
   "source": [
    "<h4>chooseing  the right model</h4>"
   ]
  },
  {
   "cell_type": "code",
   "execution_count": 20,
   "id": "3b96d564",
   "metadata": {
    "ExecuteTime": {
     "end_time": "2022-07-06T15:11:19.040582Z",
     "start_time": "2022-07-06T15:11:18.755599Z"
    }
   },
   "outputs": [],
   "source": [
    "from sklearn.linear_model import LogisticRegression"
   ]
  },
  {
   "cell_type": "code",
   "execution_count": 21,
   "id": "77b11e6f",
   "metadata": {
    "ExecuteTime": {
     "end_time": "2022-07-06T15:11:19.056169Z",
     "start_time": "2022-07-06T15:11:19.040582Z"
    }
   },
   "outputs": [],
   "source": [
    "model = LogisticRegression()"
   ]
  },
  {
   "cell_type": "code",
   "execution_count": 22,
   "id": "1c66391c",
   "metadata": {
    "ExecuteTime": {
     "end_time": "2022-07-06T15:11:19.087455Z",
     "start_time": "2022-07-06T15:11:19.056169Z"
    }
   },
   "outputs": [
    {
     "data": {
      "text/plain": [
       "LogisticRegression()"
      ]
     },
     "execution_count": 22,
     "metadata": {},
     "output_type": "execute_result"
    }
   ],
   "source": [
    "model.fit(x_train , y_train)"
   ]
  },
  {
   "cell_type": "code",
   "execution_count": 23,
   "id": "3aac206f",
   "metadata": {
    "ExecuteTime": {
     "end_time": "2022-07-06T15:11:19.125315Z",
     "start_time": "2022-07-06T15:11:19.087455Z"
    }
   },
   "outputs": [
    {
     "data": {
      "text/plain": [
       "0.7960122699386503"
      ]
     },
     "execution_count": 23,
     "metadata": {},
     "output_type": "execute_result"
    }
   ],
   "source": [
    "model.score(x_train , y_train)"
   ]
  },
  {
   "cell_type": "code",
   "execution_count": 24,
   "id": "29c78427",
   "metadata": {
    "ExecuteTime": {
     "end_time": "2022-07-06T15:11:19.140902Z",
     "start_time": "2022-07-06T15:11:19.125315Z"
    }
   },
   "outputs": [],
   "source": [
    "predict_y = model.predict(x_test)"
   ]
  },
  {
   "cell_type": "code",
   "execution_count": 25,
   "id": "a7ca7db7",
   "metadata": {
    "ExecuteTime": {
     "end_time": "2022-07-06T15:11:19.156560Z",
     "start_time": "2022-07-06T15:11:19.140902Z"
    }
   },
   "outputs": [
    {
     "data": {
      "text/plain": [
       "array([0, 0, 0, 1, 1, 0, 1, 0, 0, 0, 1, 0, 0, 0, 0, 0, 0, 1, 0, 0, 1, 0,\n",
       "       1, 1, 0, 0, 1, 0, 1, 1, 0, 1, 0, 1, 0, 0, 0, 0, 0, 0, 0, 0, 0, 0,\n",
       "       1, 0, 0, 0, 0, 1, 0, 0, 0, 0, 0, 0, 0, 0, 1, 0, 0, 0, 0, 1, 0, 0,\n",
       "       0, 0, 0, 0, 0, 0, 0, 1, 1, 0, 1, 0, 0, 1, 0, 0, 0, 0, 1, 0, 0, 1,\n",
       "       1, 0, 0, 0, 0, 0, 0, 0, 0, 1, 0, 0, 0, 0, 0, 0, 0, 1, 0, 0, 0, 0,\n",
       "       0, 0, 0, 1, 0, 0], dtype=int64)"
      ]
     },
     "execution_count": 25,
     "metadata": {},
     "output_type": "execute_result"
    }
   ],
   "source": [
    "predict_y"
   ]
  },
  {
   "cell_type": "code",
   "execution_count": 26,
   "id": "b8f7b780",
   "metadata": {
    "ExecuteTime": {
     "end_time": "2022-07-06T15:11:19.187811Z",
     "start_time": "2022-07-06T15:11:19.156560Z"
    }
   },
   "outputs": [
    {
     "data": {
      "text/plain": [
       "0.7327586206896551"
      ]
     },
     "execution_count": 26,
     "metadata": {},
     "output_type": "execute_result"
    }
   ],
   "source": [
    "model.score(x_test , y_test)"
   ]
  },
  {
   "cell_type": "code",
   "execution_count": 27,
   "id": "e5ec2a21",
   "metadata": {
    "ExecuteTime": {
     "end_time": "2022-07-06T15:11:19.203400Z",
     "start_time": "2022-07-06T15:11:19.187811Z"
    }
   },
   "outputs": [],
   "source": [
    "from sklearn.metrics import confusion_matrix"
   ]
  },
  {
   "cell_type": "code",
   "execution_count": 28,
   "id": "6ae546de",
   "metadata": {
    "ExecuteTime": {
     "end_time": "2022-07-06T15:11:19.225631Z",
     "start_time": "2022-07-06T15:11:19.203400Z"
    }
   },
   "outputs": [],
   "source": [
    "cm = confusion_matrix(y_test,predict_y)"
   ]
  },
  {
   "cell_type": "code",
   "execution_count": 29,
   "id": "2104c082",
   "metadata": {
    "ExecuteTime": {
     "end_time": "2022-07-06T15:11:19.573281Z",
     "start_time": "2022-07-06T15:11:19.225631Z"
    }
   },
   "outputs": [],
   "source": [
    "import seaborn as sns "
   ]
  },
  {
   "cell_type": "code",
   "execution_count": 30,
   "id": "e915341c",
   "metadata": {
    "ExecuteTime": {
     "end_time": "2022-07-06T15:11:20.075104Z",
     "start_time": "2022-07-06T15:11:19.573281Z"
    }
   },
   "outputs": [
    {
     "data": {
      "application/javascript": [
       "/* Put everything inside the global mpl namespace */\n",
       "/* global mpl */\n",
       "window.mpl = {};\n",
       "\n",
       "mpl.get_websocket_type = function () {\n",
       "    if (typeof WebSocket !== 'undefined') {\n",
       "        return WebSocket;\n",
       "    } else if (typeof MozWebSocket !== 'undefined') {\n",
       "        return MozWebSocket;\n",
       "    } else {\n",
       "        alert(\n",
       "            'Your browser does not have WebSocket support. ' +\n",
       "                'Please try Chrome, Safari or Firefox ≥ 6. ' +\n",
       "                'Firefox 4 and 5 are also supported but you ' +\n",
       "                'have to enable WebSockets in about:config.'\n",
       "        );\n",
       "    }\n",
       "};\n",
       "\n",
       "mpl.figure = function (figure_id, websocket, ondownload, parent_element) {\n",
       "    this.id = figure_id;\n",
       "\n",
       "    this.ws = websocket;\n",
       "\n",
       "    this.supports_binary = this.ws.binaryType !== undefined;\n",
       "\n",
       "    if (!this.supports_binary) {\n",
       "        var warnings = document.getElementById('mpl-warnings');\n",
       "        if (warnings) {\n",
       "            warnings.style.display = 'block';\n",
       "            warnings.textContent =\n",
       "                'This browser does not support binary websocket messages. ' +\n",
       "                'Performance may be slow.';\n",
       "        }\n",
       "    }\n",
       "\n",
       "    this.imageObj = new Image();\n",
       "\n",
       "    this.context = undefined;\n",
       "    this.message = undefined;\n",
       "    this.canvas = undefined;\n",
       "    this.rubberband_canvas = undefined;\n",
       "    this.rubberband_context = undefined;\n",
       "    this.format_dropdown = undefined;\n",
       "\n",
       "    this.image_mode = 'full';\n",
       "\n",
       "    this.root = document.createElement('div');\n",
       "    this.root.setAttribute('style', 'display: inline-block');\n",
       "    this._root_extra_style(this.root);\n",
       "\n",
       "    parent_element.appendChild(this.root);\n",
       "\n",
       "    this._init_header(this);\n",
       "    this._init_canvas(this);\n",
       "    this._init_toolbar(this);\n",
       "\n",
       "    var fig = this;\n",
       "\n",
       "    this.waiting = false;\n",
       "\n",
       "    this.ws.onopen = function () {\n",
       "        fig.send_message('supports_binary', { value: fig.supports_binary });\n",
       "        fig.send_message('send_image_mode', {});\n",
       "        if (fig.ratio !== 1) {\n",
       "            fig.send_message('set_dpi_ratio', { dpi_ratio: fig.ratio });\n",
       "        }\n",
       "        fig.send_message('refresh', {});\n",
       "    };\n",
       "\n",
       "    this.imageObj.onload = function () {\n",
       "        if (fig.image_mode === 'full') {\n",
       "            // Full images could contain transparency (where diff images\n",
       "            // almost always do), so we need to clear the canvas so that\n",
       "            // there is no ghosting.\n",
       "            fig.context.clearRect(0, 0, fig.canvas.width, fig.canvas.height);\n",
       "        }\n",
       "        fig.context.drawImage(fig.imageObj, 0, 0);\n",
       "    };\n",
       "\n",
       "    this.imageObj.onunload = function () {\n",
       "        fig.ws.close();\n",
       "    };\n",
       "\n",
       "    this.ws.onmessage = this._make_on_message_function(this);\n",
       "\n",
       "    this.ondownload = ondownload;\n",
       "};\n",
       "\n",
       "mpl.figure.prototype._init_header = function () {\n",
       "    var titlebar = document.createElement('div');\n",
       "    titlebar.classList =\n",
       "        'ui-dialog-titlebar ui-widget-header ui-corner-all ui-helper-clearfix';\n",
       "    var titletext = document.createElement('div');\n",
       "    titletext.classList = 'ui-dialog-title';\n",
       "    titletext.setAttribute(\n",
       "        'style',\n",
       "        'width: 100%; text-align: center; padding: 3px;'\n",
       "    );\n",
       "    titlebar.appendChild(titletext);\n",
       "    this.root.appendChild(titlebar);\n",
       "    this.header = titletext;\n",
       "};\n",
       "\n",
       "mpl.figure.prototype._canvas_extra_style = function (_canvas_div) {};\n",
       "\n",
       "mpl.figure.prototype._root_extra_style = function (_canvas_div) {};\n",
       "\n",
       "mpl.figure.prototype._init_canvas = function () {\n",
       "    var fig = this;\n",
       "\n",
       "    var canvas_div = (this.canvas_div = document.createElement('div'));\n",
       "    canvas_div.setAttribute(\n",
       "        'style',\n",
       "        'border: 1px solid #ddd;' +\n",
       "            'box-sizing: content-box;' +\n",
       "            'clear: both;' +\n",
       "            'min-height: 1px;' +\n",
       "            'min-width: 1px;' +\n",
       "            'outline: 0;' +\n",
       "            'overflow: hidden;' +\n",
       "            'position: relative;' +\n",
       "            'resize: both;'\n",
       "    );\n",
       "\n",
       "    function on_keyboard_event_closure(name) {\n",
       "        return function (event) {\n",
       "            return fig.key_event(event, name);\n",
       "        };\n",
       "    }\n",
       "\n",
       "    canvas_div.addEventListener(\n",
       "        'keydown',\n",
       "        on_keyboard_event_closure('key_press')\n",
       "    );\n",
       "    canvas_div.addEventListener(\n",
       "        'keyup',\n",
       "        on_keyboard_event_closure('key_release')\n",
       "    );\n",
       "\n",
       "    this._canvas_extra_style(canvas_div);\n",
       "    this.root.appendChild(canvas_div);\n",
       "\n",
       "    var canvas = (this.canvas = document.createElement('canvas'));\n",
       "    canvas.classList.add('mpl-canvas');\n",
       "    canvas.setAttribute('style', 'box-sizing: content-box;');\n",
       "\n",
       "    this.context = canvas.getContext('2d');\n",
       "\n",
       "    var backingStore =\n",
       "        this.context.backingStorePixelRatio ||\n",
       "        this.context.webkitBackingStorePixelRatio ||\n",
       "        this.context.mozBackingStorePixelRatio ||\n",
       "        this.context.msBackingStorePixelRatio ||\n",
       "        this.context.oBackingStorePixelRatio ||\n",
       "        this.context.backingStorePixelRatio ||\n",
       "        1;\n",
       "\n",
       "    this.ratio = (window.devicePixelRatio || 1) / backingStore;\n",
       "\n",
       "    var rubberband_canvas = (this.rubberband_canvas = document.createElement(\n",
       "        'canvas'\n",
       "    ));\n",
       "    rubberband_canvas.setAttribute(\n",
       "        'style',\n",
       "        'box-sizing: content-box; position: absolute; left: 0; top: 0; z-index: 1;'\n",
       "    );\n",
       "\n",
       "    // Apply a ponyfill if ResizeObserver is not implemented by browser.\n",
       "    if (this.ResizeObserver === undefined) {\n",
       "        if (window.ResizeObserver !== undefined) {\n",
       "            this.ResizeObserver = window.ResizeObserver;\n",
       "        } else {\n",
       "            var obs = _JSXTOOLS_RESIZE_OBSERVER({});\n",
       "            this.ResizeObserver = obs.ResizeObserver;\n",
       "        }\n",
       "    }\n",
       "\n",
       "    this.resizeObserverInstance = new this.ResizeObserver(function (entries) {\n",
       "        var nentries = entries.length;\n",
       "        for (var i = 0; i < nentries; i++) {\n",
       "            var entry = entries[i];\n",
       "            var width, height;\n",
       "            if (entry.contentBoxSize) {\n",
       "                if (entry.contentBoxSize instanceof Array) {\n",
       "                    // Chrome 84 implements new version of spec.\n",
       "                    width = entry.contentBoxSize[0].inlineSize;\n",
       "                    height = entry.contentBoxSize[0].blockSize;\n",
       "                } else {\n",
       "                    // Firefox implements old version of spec.\n",
       "                    width = entry.contentBoxSize.inlineSize;\n",
       "                    height = entry.contentBoxSize.blockSize;\n",
       "                }\n",
       "            } else {\n",
       "                // Chrome <84 implements even older version of spec.\n",
       "                width = entry.contentRect.width;\n",
       "                height = entry.contentRect.height;\n",
       "            }\n",
       "\n",
       "            // Keep the size of the canvas and rubber band canvas in sync with\n",
       "            // the canvas container.\n",
       "            if (entry.devicePixelContentBoxSize) {\n",
       "                // Chrome 84 implements new version of spec.\n",
       "                canvas.setAttribute(\n",
       "                    'width',\n",
       "                    entry.devicePixelContentBoxSize[0].inlineSize\n",
       "                );\n",
       "                canvas.setAttribute(\n",
       "                    'height',\n",
       "                    entry.devicePixelContentBoxSize[0].blockSize\n",
       "                );\n",
       "            } else {\n",
       "                canvas.setAttribute('width', width * fig.ratio);\n",
       "                canvas.setAttribute('height', height * fig.ratio);\n",
       "            }\n",
       "            canvas.setAttribute(\n",
       "                'style',\n",
       "                'width: ' + width + 'px; height: ' + height + 'px;'\n",
       "            );\n",
       "\n",
       "            rubberband_canvas.setAttribute('width', width);\n",
       "            rubberband_canvas.setAttribute('height', height);\n",
       "\n",
       "            // And update the size in Python. We ignore the initial 0/0 size\n",
       "            // that occurs as the element is placed into the DOM, which should\n",
       "            // otherwise not happen due to the minimum size styling.\n",
       "            if (fig.ws.readyState == 1 && width != 0 && height != 0) {\n",
       "                fig.request_resize(width, height);\n",
       "            }\n",
       "        }\n",
       "    });\n",
       "    this.resizeObserverInstance.observe(canvas_div);\n",
       "\n",
       "    function on_mouse_event_closure(name) {\n",
       "        return function (event) {\n",
       "            return fig.mouse_event(event, name);\n",
       "        };\n",
       "    }\n",
       "\n",
       "    rubberband_canvas.addEventListener(\n",
       "        'mousedown',\n",
       "        on_mouse_event_closure('button_press')\n",
       "    );\n",
       "    rubberband_canvas.addEventListener(\n",
       "        'mouseup',\n",
       "        on_mouse_event_closure('button_release')\n",
       "    );\n",
       "    rubberband_canvas.addEventListener(\n",
       "        'dblclick',\n",
       "        on_mouse_event_closure('dblclick')\n",
       "    );\n",
       "    // Throttle sequential mouse events to 1 every 20ms.\n",
       "    rubberband_canvas.addEventListener(\n",
       "        'mousemove',\n",
       "        on_mouse_event_closure('motion_notify')\n",
       "    );\n",
       "\n",
       "    rubberband_canvas.addEventListener(\n",
       "        'mouseenter',\n",
       "        on_mouse_event_closure('figure_enter')\n",
       "    );\n",
       "    rubberband_canvas.addEventListener(\n",
       "        'mouseleave',\n",
       "        on_mouse_event_closure('figure_leave')\n",
       "    );\n",
       "\n",
       "    canvas_div.addEventListener('wheel', function (event) {\n",
       "        if (event.deltaY < 0) {\n",
       "            event.step = 1;\n",
       "        } else {\n",
       "            event.step = -1;\n",
       "        }\n",
       "        on_mouse_event_closure('scroll')(event);\n",
       "    });\n",
       "\n",
       "    canvas_div.appendChild(canvas);\n",
       "    canvas_div.appendChild(rubberband_canvas);\n",
       "\n",
       "    this.rubberband_context = rubberband_canvas.getContext('2d');\n",
       "    this.rubberband_context.strokeStyle = '#000000';\n",
       "\n",
       "    this._resize_canvas = function (width, height, forward) {\n",
       "        if (forward) {\n",
       "            canvas_div.style.width = width + 'px';\n",
       "            canvas_div.style.height = height + 'px';\n",
       "        }\n",
       "    };\n",
       "\n",
       "    // Disable right mouse context menu.\n",
       "    this.rubberband_canvas.addEventListener('contextmenu', function (_e) {\n",
       "        event.preventDefault();\n",
       "        return false;\n",
       "    });\n",
       "\n",
       "    function set_focus() {\n",
       "        canvas.focus();\n",
       "        canvas_div.focus();\n",
       "    }\n",
       "\n",
       "    window.setTimeout(set_focus, 100);\n",
       "};\n",
       "\n",
       "mpl.figure.prototype._init_toolbar = function () {\n",
       "    var fig = this;\n",
       "\n",
       "    var toolbar = document.createElement('div');\n",
       "    toolbar.classList = 'mpl-toolbar';\n",
       "    this.root.appendChild(toolbar);\n",
       "\n",
       "    function on_click_closure(name) {\n",
       "        return function (_event) {\n",
       "            return fig.toolbar_button_onclick(name);\n",
       "        };\n",
       "    }\n",
       "\n",
       "    function on_mouseover_closure(tooltip) {\n",
       "        return function (event) {\n",
       "            if (!event.currentTarget.disabled) {\n",
       "                return fig.toolbar_button_onmouseover(tooltip);\n",
       "            }\n",
       "        };\n",
       "    }\n",
       "\n",
       "    fig.buttons = {};\n",
       "    var buttonGroup = document.createElement('div');\n",
       "    buttonGroup.classList = 'mpl-button-group';\n",
       "    for (var toolbar_ind in mpl.toolbar_items) {\n",
       "        var name = mpl.toolbar_items[toolbar_ind][0];\n",
       "        var tooltip = mpl.toolbar_items[toolbar_ind][1];\n",
       "        var image = mpl.toolbar_items[toolbar_ind][2];\n",
       "        var method_name = mpl.toolbar_items[toolbar_ind][3];\n",
       "\n",
       "        if (!name) {\n",
       "            /* Instead of a spacer, we start a new button group. */\n",
       "            if (buttonGroup.hasChildNodes()) {\n",
       "                toolbar.appendChild(buttonGroup);\n",
       "            }\n",
       "            buttonGroup = document.createElement('div');\n",
       "            buttonGroup.classList = 'mpl-button-group';\n",
       "            continue;\n",
       "        }\n",
       "\n",
       "        var button = (fig.buttons[name] = document.createElement('button'));\n",
       "        button.classList = 'mpl-widget';\n",
       "        button.setAttribute('role', 'button');\n",
       "        button.setAttribute('aria-disabled', 'false');\n",
       "        button.addEventListener('click', on_click_closure(method_name));\n",
       "        button.addEventListener('mouseover', on_mouseover_closure(tooltip));\n",
       "\n",
       "        var icon_img = document.createElement('img');\n",
       "        icon_img.src = '_images/' + image + '.png';\n",
       "        icon_img.srcset = '_images/' + image + '_large.png 2x';\n",
       "        icon_img.alt = tooltip;\n",
       "        button.appendChild(icon_img);\n",
       "\n",
       "        buttonGroup.appendChild(button);\n",
       "    }\n",
       "\n",
       "    if (buttonGroup.hasChildNodes()) {\n",
       "        toolbar.appendChild(buttonGroup);\n",
       "    }\n",
       "\n",
       "    var fmt_picker = document.createElement('select');\n",
       "    fmt_picker.classList = 'mpl-widget';\n",
       "    toolbar.appendChild(fmt_picker);\n",
       "    this.format_dropdown = fmt_picker;\n",
       "\n",
       "    for (var ind in mpl.extensions) {\n",
       "        var fmt = mpl.extensions[ind];\n",
       "        var option = document.createElement('option');\n",
       "        option.selected = fmt === mpl.default_extension;\n",
       "        option.innerHTML = fmt;\n",
       "        fmt_picker.appendChild(option);\n",
       "    }\n",
       "\n",
       "    var status_bar = document.createElement('span');\n",
       "    status_bar.classList = 'mpl-message';\n",
       "    toolbar.appendChild(status_bar);\n",
       "    this.message = status_bar;\n",
       "};\n",
       "\n",
       "mpl.figure.prototype.request_resize = function (x_pixels, y_pixels) {\n",
       "    // Request matplotlib to resize the figure. Matplotlib will then trigger a resize in the client,\n",
       "    // which will in turn request a refresh of the image.\n",
       "    this.send_message('resize', { width: x_pixels, height: y_pixels });\n",
       "};\n",
       "\n",
       "mpl.figure.prototype.send_message = function (type, properties) {\n",
       "    properties['type'] = type;\n",
       "    properties['figure_id'] = this.id;\n",
       "    this.ws.send(JSON.stringify(properties));\n",
       "};\n",
       "\n",
       "mpl.figure.prototype.send_draw_message = function () {\n",
       "    if (!this.waiting) {\n",
       "        this.waiting = true;\n",
       "        this.ws.send(JSON.stringify({ type: 'draw', figure_id: this.id }));\n",
       "    }\n",
       "};\n",
       "\n",
       "mpl.figure.prototype.handle_save = function (fig, _msg) {\n",
       "    var format_dropdown = fig.format_dropdown;\n",
       "    var format = format_dropdown.options[format_dropdown.selectedIndex].value;\n",
       "    fig.ondownload(fig, format);\n",
       "};\n",
       "\n",
       "mpl.figure.prototype.handle_resize = function (fig, msg) {\n",
       "    var size = msg['size'];\n",
       "    if (size[0] !== fig.canvas.width || size[1] !== fig.canvas.height) {\n",
       "        fig._resize_canvas(size[0], size[1], msg['forward']);\n",
       "        fig.send_message('refresh', {});\n",
       "    }\n",
       "};\n",
       "\n",
       "mpl.figure.prototype.handle_rubberband = function (fig, msg) {\n",
       "    var x0 = msg['x0'] / fig.ratio;\n",
       "    var y0 = (fig.canvas.height - msg['y0']) / fig.ratio;\n",
       "    var x1 = msg['x1'] / fig.ratio;\n",
       "    var y1 = (fig.canvas.height - msg['y1']) / fig.ratio;\n",
       "    x0 = Math.floor(x0) + 0.5;\n",
       "    y0 = Math.floor(y0) + 0.5;\n",
       "    x1 = Math.floor(x1) + 0.5;\n",
       "    y1 = Math.floor(y1) + 0.5;\n",
       "    var min_x = Math.min(x0, x1);\n",
       "    var min_y = Math.min(y0, y1);\n",
       "    var width = Math.abs(x1 - x0);\n",
       "    var height = Math.abs(y1 - y0);\n",
       "\n",
       "    fig.rubberband_context.clearRect(\n",
       "        0,\n",
       "        0,\n",
       "        fig.canvas.width / fig.ratio,\n",
       "        fig.canvas.height / fig.ratio\n",
       "    );\n",
       "\n",
       "    fig.rubberband_context.strokeRect(min_x, min_y, width, height);\n",
       "};\n",
       "\n",
       "mpl.figure.prototype.handle_figure_label = function (fig, msg) {\n",
       "    // Updates the figure title.\n",
       "    fig.header.textContent = msg['label'];\n",
       "};\n",
       "\n",
       "mpl.figure.prototype.handle_cursor = function (fig, msg) {\n",
       "    var cursor = msg['cursor'];\n",
       "    switch (cursor) {\n",
       "        case 0:\n",
       "            cursor = 'pointer';\n",
       "            break;\n",
       "        case 1:\n",
       "            cursor = 'default';\n",
       "            break;\n",
       "        case 2:\n",
       "            cursor = 'crosshair';\n",
       "            break;\n",
       "        case 3:\n",
       "            cursor = 'move';\n",
       "            break;\n",
       "    }\n",
       "    fig.rubberband_canvas.style.cursor = cursor;\n",
       "};\n",
       "\n",
       "mpl.figure.prototype.handle_message = function (fig, msg) {\n",
       "    fig.message.textContent = msg['message'];\n",
       "};\n",
       "\n",
       "mpl.figure.prototype.handle_draw = function (fig, _msg) {\n",
       "    // Request the server to send over a new figure.\n",
       "    fig.send_draw_message();\n",
       "};\n",
       "\n",
       "mpl.figure.prototype.handle_image_mode = function (fig, msg) {\n",
       "    fig.image_mode = msg['mode'];\n",
       "};\n",
       "\n",
       "mpl.figure.prototype.handle_history_buttons = function (fig, msg) {\n",
       "    for (var key in msg) {\n",
       "        if (!(key in fig.buttons)) {\n",
       "            continue;\n",
       "        }\n",
       "        fig.buttons[key].disabled = !msg[key];\n",
       "        fig.buttons[key].setAttribute('aria-disabled', !msg[key]);\n",
       "    }\n",
       "};\n",
       "\n",
       "mpl.figure.prototype.handle_navigate_mode = function (fig, msg) {\n",
       "    if (msg['mode'] === 'PAN') {\n",
       "        fig.buttons['Pan'].classList.add('active');\n",
       "        fig.buttons['Zoom'].classList.remove('active');\n",
       "    } else if (msg['mode'] === 'ZOOM') {\n",
       "        fig.buttons['Pan'].classList.remove('active');\n",
       "        fig.buttons['Zoom'].classList.add('active');\n",
       "    } else {\n",
       "        fig.buttons['Pan'].classList.remove('active');\n",
       "        fig.buttons['Zoom'].classList.remove('active');\n",
       "    }\n",
       "};\n",
       "\n",
       "mpl.figure.prototype.updated_canvas_event = function () {\n",
       "    // Called whenever the canvas gets updated.\n",
       "    this.send_message('ack', {});\n",
       "};\n",
       "\n",
       "// A function to construct a web socket function for onmessage handling.\n",
       "// Called in the figure constructor.\n",
       "mpl.figure.prototype._make_on_message_function = function (fig) {\n",
       "    return function socket_on_message(evt) {\n",
       "        if (evt.data instanceof Blob) {\n",
       "            var img = evt.data;\n",
       "            if (img.type !== 'image/png') {\n",
       "                /* FIXME: We get \"Resource interpreted as Image but\n",
       "                 * transferred with MIME type text/plain:\" errors on\n",
       "                 * Chrome.  But how to set the MIME type?  It doesn't seem\n",
       "                 * to be part of the websocket stream */\n",
       "                img.type = 'image/png';\n",
       "            }\n",
       "\n",
       "            /* Free the memory for the previous frames */\n",
       "            if (fig.imageObj.src) {\n",
       "                (window.URL || window.webkitURL).revokeObjectURL(\n",
       "                    fig.imageObj.src\n",
       "                );\n",
       "            }\n",
       "\n",
       "            fig.imageObj.src = (window.URL || window.webkitURL).createObjectURL(\n",
       "                img\n",
       "            );\n",
       "            fig.updated_canvas_event();\n",
       "            fig.waiting = false;\n",
       "            return;\n",
       "        } else if (\n",
       "            typeof evt.data === 'string' &&\n",
       "            evt.data.slice(0, 21) === 'data:image/png;base64'\n",
       "        ) {\n",
       "            fig.imageObj.src = evt.data;\n",
       "            fig.updated_canvas_event();\n",
       "            fig.waiting = false;\n",
       "            return;\n",
       "        }\n",
       "\n",
       "        var msg = JSON.parse(evt.data);\n",
       "        var msg_type = msg['type'];\n",
       "\n",
       "        // Call the  \"handle_{type}\" callback, which takes\n",
       "        // the figure and JSON message as its only arguments.\n",
       "        try {\n",
       "            var callback = fig['handle_' + msg_type];\n",
       "        } catch (e) {\n",
       "            console.log(\n",
       "                \"No handler for the '\" + msg_type + \"' message type: \",\n",
       "                msg\n",
       "            );\n",
       "            return;\n",
       "        }\n",
       "\n",
       "        if (callback) {\n",
       "            try {\n",
       "                // console.log(\"Handling '\" + msg_type + \"' message: \", msg);\n",
       "                callback(fig, msg);\n",
       "            } catch (e) {\n",
       "                console.log(\n",
       "                    \"Exception inside the 'handler_\" + msg_type + \"' callback:\",\n",
       "                    e,\n",
       "                    e.stack,\n",
       "                    msg\n",
       "                );\n",
       "            }\n",
       "        }\n",
       "    };\n",
       "};\n",
       "\n",
       "// from http://stackoverflow.com/questions/1114465/getting-mouse-location-in-canvas\n",
       "mpl.findpos = function (e) {\n",
       "    //this section is from http://www.quirksmode.org/js/events_properties.html\n",
       "    var targ;\n",
       "    if (!e) {\n",
       "        e = window.event;\n",
       "    }\n",
       "    if (e.target) {\n",
       "        targ = e.target;\n",
       "    } else if (e.srcElement) {\n",
       "        targ = e.srcElement;\n",
       "    }\n",
       "    if (targ.nodeType === 3) {\n",
       "        // defeat Safari bug\n",
       "        targ = targ.parentNode;\n",
       "    }\n",
       "\n",
       "    // pageX,Y are the mouse positions relative to the document\n",
       "    var boundingRect = targ.getBoundingClientRect();\n",
       "    var x = e.pageX - (boundingRect.left + document.body.scrollLeft);\n",
       "    var y = e.pageY - (boundingRect.top + document.body.scrollTop);\n",
       "\n",
       "    return { x: x, y: y };\n",
       "};\n",
       "\n",
       "/*\n",
       " * return a copy of an object with only non-object keys\n",
       " * we need this to avoid circular references\n",
       " * http://stackoverflow.com/a/24161582/3208463\n",
       " */\n",
       "function simpleKeys(original) {\n",
       "    return Object.keys(original).reduce(function (obj, key) {\n",
       "        if (typeof original[key] !== 'object') {\n",
       "            obj[key] = original[key];\n",
       "        }\n",
       "        return obj;\n",
       "    }, {});\n",
       "}\n",
       "\n",
       "mpl.figure.prototype.mouse_event = function (event, name) {\n",
       "    var canvas_pos = mpl.findpos(event);\n",
       "\n",
       "    if (name === 'button_press') {\n",
       "        this.canvas.focus();\n",
       "        this.canvas_div.focus();\n",
       "    }\n",
       "\n",
       "    var x = canvas_pos.x * this.ratio;\n",
       "    var y = canvas_pos.y * this.ratio;\n",
       "\n",
       "    this.send_message(name, {\n",
       "        x: x,\n",
       "        y: y,\n",
       "        button: event.button,\n",
       "        step: event.step,\n",
       "        guiEvent: simpleKeys(event),\n",
       "    });\n",
       "\n",
       "    /* This prevents the web browser from automatically changing to\n",
       "     * the text insertion cursor when the button is pressed.  We want\n",
       "     * to control all of the cursor setting manually through the\n",
       "     * 'cursor' event from matplotlib */\n",
       "    event.preventDefault();\n",
       "    return false;\n",
       "};\n",
       "\n",
       "mpl.figure.prototype._key_event_extra = function (_event, _name) {\n",
       "    // Handle any extra behaviour associated with a key event\n",
       "};\n",
       "\n",
       "mpl.figure.prototype.key_event = function (event, name) {\n",
       "    // Prevent repeat events\n",
       "    if (name === 'key_press') {\n",
       "        if (event.key === this._key) {\n",
       "            return;\n",
       "        } else {\n",
       "            this._key = event.key;\n",
       "        }\n",
       "    }\n",
       "    if (name === 'key_release') {\n",
       "        this._key = null;\n",
       "    }\n",
       "\n",
       "    var value = '';\n",
       "    if (event.ctrlKey && event.key !== 'Control') {\n",
       "        value += 'ctrl+';\n",
       "    }\n",
       "    else if (event.altKey && event.key !== 'Alt') {\n",
       "        value += 'alt+';\n",
       "    }\n",
       "    else if (event.shiftKey && event.key !== 'Shift') {\n",
       "        value += 'shift+';\n",
       "    }\n",
       "\n",
       "    value += 'k' + event.key;\n",
       "\n",
       "    this._key_event_extra(event, name);\n",
       "\n",
       "    this.send_message(name, { key: value, guiEvent: simpleKeys(event) });\n",
       "    return false;\n",
       "};\n",
       "\n",
       "mpl.figure.prototype.toolbar_button_onclick = function (name) {\n",
       "    if (name === 'download') {\n",
       "        this.handle_save(this, null);\n",
       "    } else {\n",
       "        this.send_message('toolbar_button', { name: name });\n",
       "    }\n",
       "};\n",
       "\n",
       "mpl.figure.prototype.toolbar_button_onmouseover = function (tooltip) {\n",
       "    this.message.textContent = tooltip;\n",
       "};\n",
       "\n",
       "///////////////// REMAINING CONTENT GENERATED BY embed_js.py /////////////////\n",
       "// prettier-ignore\n",
       "var _JSXTOOLS_RESIZE_OBSERVER=function(A){var t,i=new WeakMap,n=new WeakMap,a=new WeakMap,r=new WeakMap,o=new Set;function s(e){if(!(this instanceof s))throw new TypeError(\"Constructor requires 'new' operator\");i.set(this,e)}function h(){throw new TypeError(\"Function is not a constructor\")}function c(e,t,i,n){e=0 in arguments?Number(arguments[0]):0,t=1 in arguments?Number(arguments[1]):0,i=2 in arguments?Number(arguments[2]):0,n=3 in arguments?Number(arguments[3]):0,this.right=(this.x=this.left=e)+(this.width=i),this.bottom=(this.y=this.top=t)+(this.height=n),Object.freeze(this)}function d(){t=requestAnimationFrame(d);var s=new WeakMap,p=new Set;o.forEach((function(t){r.get(t).forEach((function(i){var r=t instanceof window.SVGElement,o=a.get(t),d=r?0:parseFloat(o.paddingTop),f=r?0:parseFloat(o.paddingRight),l=r?0:parseFloat(o.paddingBottom),u=r?0:parseFloat(o.paddingLeft),g=r?0:parseFloat(o.borderTopWidth),m=r?0:parseFloat(o.borderRightWidth),w=r?0:parseFloat(o.borderBottomWidth),b=u+f,F=d+l,v=(r?0:parseFloat(o.borderLeftWidth))+m,W=g+w,y=r?0:t.offsetHeight-W-t.clientHeight,E=r?0:t.offsetWidth-v-t.clientWidth,R=b+v,z=F+W,M=r?t.width:parseFloat(o.width)-R-E,O=r?t.height:parseFloat(o.height)-z-y;if(n.has(t)){var k=n.get(t);if(k[0]===M&&k[1]===O)return}n.set(t,[M,O]);var S=Object.create(h.prototype);S.target=t,S.contentRect=new c(u,d,M,O),s.has(i)||(s.set(i,[]),p.add(i)),s.get(i).push(S)}))})),p.forEach((function(e){i.get(e).call(e,s.get(e),e)}))}return s.prototype.observe=function(i){if(i instanceof window.Element){r.has(i)||(r.set(i,new Set),o.add(i),a.set(i,window.getComputedStyle(i)));var n=r.get(i);n.has(this)||n.add(this),cancelAnimationFrame(t),t=requestAnimationFrame(d)}},s.prototype.unobserve=function(i){if(i instanceof window.Element&&r.has(i)){var n=r.get(i);n.has(this)&&(n.delete(this),n.size||(r.delete(i),o.delete(i))),n.size||r.delete(i),o.size||cancelAnimationFrame(t)}},A.DOMRectReadOnly=c,A.ResizeObserver=s,A.ResizeObserverEntry=h,A}; // eslint-disable-line\n",
       "mpl.toolbar_items = [[\"Home\", \"Reset original view\", \"fa fa-home icon-home\", \"home\"], [\"Back\", \"Back to previous view\", \"fa fa-arrow-left icon-arrow-left\", \"back\"], [\"Forward\", \"Forward to next view\", \"fa fa-arrow-right icon-arrow-right\", \"forward\"], [\"\", \"\", \"\", \"\"], [\"Pan\", \"Left button pans, Right button zooms\\nx/y fixes axis, CTRL fixes aspect\", \"fa fa-arrows icon-move\", \"pan\"], [\"Zoom\", \"Zoom to rectangle\\nx/y fixes axis, CTRL fixes aspect\", \"fa fa-square-o icon-check-empty\", \"zoom\"], [\"\", \"\", \"\", \"\"], [\"Download\", \"Download plot\", \"fa fa-floppy-o icon-save\", \"download\"]];\n",
       "\n",
       "mpl.extensions = [\"eps\", \"jpeg\", \"pgf\", \"pdf\", \"png\", \"ps\", \"raw\", \"svg\", \"tif\"];\n",
       "\n",
       "mpl.default_extension = \"png\";/* global mpl */\n",
       "\n",
       "var comm_websocket_adapter = function (comm) {\n",
       "    // Create a \"websocket\"-like object which calls the given IPython comm\n",
       "    // object with the appropriate methods. Currently this is a non binary\n",
       "    // socket, so there is still some room for performance tuning.\n",
       "    var ws = {};\n",
       "\n",
       "    ws.binaryType = comm.kernel.ws.binaryType;\n",
       "    ws.readyState = comm.kernel.ws.readyState;\n",
       "    function updateReadyState(_event) {\n",
       "        if (comm.kernel.ws) {\n",
       "            ws.readyState = comm.kernel.ws.readyState;\n",
       "        } else {\n",
       "            ws.readyState = 3; // Closed state.\n",
       "        }\n",
       "    }\n",
       "    comm.kernel.ws.addEventListener('open', updateReadyState);\n",
       "    comm.kernel.ws.addEventListener('close', updateReadyState);\n",
       "    comm.kernel.ws.addEventListener('error', updateReadyState);\n",
       "\n",
       "    ws.close = function () {\n",
       "        comm.close();\n",
       "    };\n",
       "    ws.send = function (m) {\n",
       "        //console.log('sending', m);\n",
       "        comm.send(m);\n",
       "    };\n",
       "    // Register the callback with on_msg.\n",
       "    comm.on_msg(function (msg) {\n",
       "        //console.log('receiving', msg['content']['data'], msg);\n",
       "        var data = msg['content']['data'];\n",
       "        if (data['blob'] !== undefined) {\n",
       "            data = {\n",
       "                data: new Blob(msg['buffers'], { type: data['blob'] }),\n",
       "            };\n",
       "        }\n",
       "        // Pass the mpl event to the overridden (by mpl) onmessage function.\n",
       "        ws.onmessage(data);\n",
       "    });\n",
       "    return ws;\n",
       "};\n",
       "\n",
       "mpl.mpl_figure_comm = function (comm, msg) {\n",
       "    // This is the function which gets called when the mpl process\n",
       "    // starts-up an IPython Comm through the \"matplotlib\" channel.\n",
       "\n",
       "    var id = msg.content.data.id;\n",
       "    // Get hold of the div created by the display call when the Comm\n",
       "    // socket was opened in Python.\n",
       "    var element = document.getElementById(id);\n",
       "    var ws_proxy = comm_websocket_adapter(comm);\n",
       "\n",
       "    function ondownload(figure, _format) {\n",
       "        window.open(figure.canvas.toDataURL());\n",
       "    }\n",
       "\n",
       "    var fig = new mpl.figure(id, ws_proxy, ondownload, element);\n",
       "\n",
       "    // Call onopen now - mpl needs it, as it is assuming we've passed it a real\n",
       "    // web socket which is closed, not our websocket->open comm proxy.\n",
       "    ws_proxy.onopen();\n",
       "\n",
       "    fig.parent_element = element;\n",
       "    fig.cell_info = mpl.find_output_cell(\"<div id='\" + id + \"'></div>\");\n",
       "    if (!fig.cell_info) {\n",
       "        console.error('Failed to find cell for figure', id, fig);\n",
       "        return;\n",
       "    }\n",
       "    fig.cell_info[0].output_area.element.on(\n",
       "        'cleared',\n",
       "        { fig: fig },\n",
       "        fig._remove_fig_handler\n",
       "    );\n",
       "};\n",
       "\n",
       "mpl.figure.prototype.handle_close = function (fig, msg) {\n",
       "    var width = fig.canvas.width / fig.ratio;\n",
       "    fig.cell_info[0].output_area.element.off(\n",
       "        'cleared',\n",
       "        fig._remove_fig_handler\n",
       "    );\n",
       "    fig.resizeObserverInstance.unobserve(fig.canvas_div);\n",
       "\n",
       "    // Update the output cell to use the data from the current canvas.\n",
       "    fig.push_to_output();\n",
       "    var dataURL = fig.canvas.toDataURL();\n",
       "    // Re-enable the keyboard manager in IPython - without this line, in FF,\n",
       "    // the notebook keyboard shortcuts fail.\n",
       "    IPython.keyboard_manager.enable();\n",
       "    fig.parent_element.innerHTML =\n",
       "        '<img src=\"' + dataURL + '\" width=\"' + width + '\">';\n",
       "    fig.close_ws(fig, msg);\n",
       "};\n",
       "\n",
       "mpl.figure.prototype.close_ws = function (fig, msg) {\n",
       "    fig.send_message('closing', msg);\n",
       "    // fig.ws.close()\n",
       "};\n",
       "\n",
       "mpl.figure.prototype.push_to_output = function (_remove_interactive) {\n",
       "    // Turn the data on the canvas into data in the output cell.\n",
       "    var width = this.canvas.width / this.ratio;\n",
       "    var dataURL = this.canvas.toDataURL();\n",
       "    this.cell_info[1]['text/html'] =\n",
       "        '<img src=\"' + dataURL + '\" width=\"' + width + '\">';\n",
       "};\n",
       "\n",
       "mpl.figure.prototype.updated_canvas_event = function () {\n",
       "    // Tell IPython that the notebook contents must change.\n",
       "    IPython.notebook.set_dirty(true);\n",
       "    this.send_message('ack', {});\n",
       "    var fig = this;\n",
       "    // Wait a second, then push the new image to the DOM so\n",
       "    // that it is saved nicely (might be nice to debounce this).\n",
       "    setTimeout(function () {\n",
       "        fig.push_to_output();\n",
       "    }, 1000);\n",
       "};\n",
       "\n",
       "mpl.figure.prototype._init_toolbar = function () {\n",
       "    var fig = this;\n",
       "\n",
       "    var toolbar = document.createElement('div');\n",
       "    toolbar.classList = 'btn-toolbar';\n",
       "    this.root.appendChild(toolbar);\n",
       "\n",
       "    function on_click_closure(name) {\n",
       "        return function (_event) {\n",
       "            return fig.toolbar_button_onclick(name);\n",
       "        };\n",
       "    }\n",
       "\n",
       "    function on_mouseover_closure(tooltip) {\n",
       "        return function (event) {\n",
       "            if (!event.currentTarget.disabled) {\n",
       "                return fig.toolbar_button_onmouseover(tooltip);\n",
       "            }\n",
       "        };\n",
       "    }\n",
       "\n",
       "    fig.buttons = {};\n",
       "    var buttonGroup = document.createElement('div');\n",
       "    buttonGroup.classList = 'btn-group';\n",
       "    var button;\n",
       "    for (var toolbar_ind in mpl.toolbar_items) {\n",
       "        var name = mpl.toolbar_items[toolbar_ind][0];\n",
       "        var tooltip = mpl.toolbar_items[toolbar_ind][1];\n",
       "        var image = mpl.toolbar_items[toolbar_ind][2];\n",
       "        var method_name = mpl.toolbar_items[toolbar_ind][3];\n",
       "\n",
       "        if (!name) {\n",
       "            /* Instead of a spacer, we start a new button group. */\n",
       "            if (buttonGroup.hasChildNodes()) {\n",
       "                toolbar.appendChild(buttonGroup);\n",
       "            }\n",
       "            buttonGroup = document.createElement('div');\n",
       "            buttonGroup.classList = 'btn-group';\n",
       "            continue;\n",
       "        }\n",
       "\n",
       "        button = fig.buttons[name] = document.createElement('button');\n",
       "        button.classList = 'btn btn-default';\n",
       "        button.href = '#';\n",
       "        button.title = name;\n",
       "        button.innerHTML = '<i class=\"fa ' + image + ' fa-lg\"></i>';\n",
       "        button.addEventListener('click', on_click_closure(method_name));\n",
       "        button.addEventListener('mouseover', on_mouseover_closure(tooltip));\n",
       "        buttonGroup.appendChild(button);\n",
       "    }\n",
       "\n",
       "    if (buttonGroup.hasChildNodes()) {\n",
       "        toolbar.appendChild(buttonGroup);\n",
       "    }\n",
       "\n",
       "    // Add the status bar.\n",
       "    var status_bar = document.createElement('span');\n",
       "    status_bar.classList = 'mpl-message pull-right';\n",
       "    toolbar.appendChild(status_bar);\n",
       "    this.message = status_bar;\n",
       "\n",
       "    // Add the close button to the window.\n",
       "    var buttongrp = document.createElement('div');\n",
       "    buttongrp.classList = 'btn-group inline pull-right';\n",
       "    button = document.createElement('button');\n",
       "    button.classList = 'btn btn-mini btn-primary';\n",
       "    button.href = '#';\n",
       "    button.title = 'Stop Interaction';\n",
       "    button.innerHTML = '<i class=\"fa fa-power-off icon-remove icon-large\"></i>';\n",
       "    button.addEventListener('click', function (_evt) {\n",
       "        fig.handle_close(fig, {});\n",
       "    });\n",
       "    button.addEventListener(\n",
       "        'mouseover',\n",
       "        on_mouseover_closure('Stop Interaction')\n",
       "    );\n",
       "    buttongrp.appendChild(button);\n",
       "    var titlebar = this.root.querySelector('.ui-dialog-titlebar');\n",
       "    titlebar.insertBefore(buttongrp, titlebar.firstChild);\n",
       "};\n",
       "\n",
       "mpl.figure.prototype._remove_fig_handler = function (event) {\n",
       "    var fig = event.data.fig;\n",
       "    if (event.target !== this) {\n",
       "        // Ignore bubbled events from children.\n",
       "        return;\n",
       "    }\n",
       "    fig.close_ws(fig, {});\n",
       "};\n",
       "\n",
       "mpl.figure.prototype._root_extra_style = function (el) {\n",
       "    el.style.boxSizing = 'content-box'; // override notebook setting of border-box.\n",
       "};\n",
       "\n",
       "mpl.figure.prototype._canvas_extra_style = function (el) {\n",
       "    // this is important to make the div 'focusable\n",
       "    el.setAttribute('tabindex', 0);\n",
       "    // reach out to IPython and tell the keyboard manager to turn it's self\n",
       "    // off when our div gets focus\n",
       "\n",
       "    // location in version 3\n",
       "    if (IPython.notebook.keyboard_manager) {\n",
       "        IPython.notebook.keyboard_manager.register_events(el);\n",
       "    } else {\n",
       "        // location in version 2\n",
       "        IPython.keyboard_manager.register_events(el);\n",
       "    }\n",
       "};\n",
       "\n",
       "mpl.figure.prototype._key_event_extra = function (event, _name) {\n",
       "    var manager = IPython.notebook.keyboard_manager;\n",
       "    if (!manager) {\n",
       "        manager = IPython.keyboard_manager;\n",
       "    }\n",
       "\n",
       "    // Check for shift+enter\n",
       "    if (event.shiftKey && event.which === 13) {\n",
       "        this.canvas_div.blur();\n",
       "        // select the cell after this one\n",
       "        var index = IPython.notebook.find_cell_index(this.cell_info[0]);\n",
       "        IPython.notebook.select(index + 1);\n",
       "    }\n",
       "};\n",
       "\n",
       "mpl.figure.prototype.handle_save = function (fig, _msg) {\n",
       "    fig.ondownload(fig, null);\n",
       "};\n",
       "\n",
       "mpl.find_output_cell = function (html_output) {\n",
       "    // Return the cell and output element which can be found *uniquely* in the notebook.\n",
       "    // Note - this is a bit hacky, but it is done because the \"notebook_saving.Notebook\"\n",
       "    // IPython event is triggered only after the cells have been serialised, which for\n",
       "    // our purposes (turning an active figure into a static one), is too late.\n",
       "    var cells = IPython.notebook.get_cells();\n",
       "    var ncells = cells.length;\n",
       "    for (var i = 0; i < ncells; i++) {\n",
       "        var cell = cells[i];\n",
       "        if (cell.cell_type === 'code') {\n",
       "            for (var j = 0; j < cell.output_area.outputs.length; j++) {\n",
       "                var data = cell.output_area.outputs[j];\n",
       "                if (data.data) {\n",
       "                    // IPython >= 3 moved mimebundle to data attribute of output\n",
       "                    data = data.data;\n",
       "                }\n",
       "                if (data['text/html'] === html_output) {\n",
       "                    return [cell, data, j];\n",
       "                }\n",
       "            }\n",
       "        }\n",
       "    }\n",
       "};\n",
       "\n",
       "// Register the function which deals with the matplotlib target/channel.\n",
       "// The kernel may be null if the page has been refreshed.\n",
       "if (IPython.notebook.kernel !== null) {\n",
       "    IPython.notebook.kernel.comm_manager.register_target(\n",
       "        'matplotlib',\n",
       "        mpl.mpl_figure_comm\n",
       "    );\n",
       "}\n"
      ],
      "text/plain": [
       "<IPython.core.display.Javascript object>"
      ]
     },
     "metadata": {},
     "output_type": "display_data"
    },
    {
     "data": {
      "text/html": [
       "<img src=\"data:image/png;base64,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\" width=\"700\">"
      ],
      "text/plain": [
       "<IPython.core.display.HTML object>"
      ]
     },
     "metadata": {},
     "output_type": "display_data"
    },
    {
     "data": {
      "text/plain": [
       "Text(58.222222222222214, 0.5, 'Truth')"
      ]
     },
     "execution_count": 30,
     "metadata": {},
     "output_type": "execute_result"
    }
   ],
   "source": [
    "%matplotlib notebook\n",
    "plt.figure(figsize=(7,10))\n",
    "sns.heatmap(cm ,annot=True)\n",
    "plt.xlabel('predicted')\n",
    "plt.ylabel('Truth')"
   ]
  },
  {
   "cell_type": "markdown",
   "id": "1fe04b70",
   "metadata": {},
   "source": [
    "<h4>predictive system<h4> "
   ]
  },
  {
   "cell_type": "code",
   "execution_count": 32,
   "id": "f2058e54",
   "metadata": {
    "ExecuteTime": {
     "end_time": "2022-07-06T15:11:21.077475Z",
     "start_time": "2022-07-06T15:11:21.046252Z"
    }
   },
   "outputs": [],
   "source": [
    "input_data = ([6,148,72,35,0,33.6,0.627,50])\n",
    "data = np.asarray(input_data)\n",
    "data_reshaped= data.reshape(1,-1)\n",
    "info =Data_scaler.transform(data_reshaped)\n",
    "output  = model.predict(info)"
   ]
  },
  {
   "cell_type": "code",
   "execution_count": 33,
   "id": "09e850c9",
   "metadata": {
    "ExecuteTime": {
     "end_time": "2022-07-06T15:11:21.794513Z",
     "start_time": "2022-07-06T15:11:21.778902Z"
    }
   },
   "outputs": [
    {
     "data": {
      "text/plain": [
       "array([1], dtype=int64)"
      ]
     },
     "execution_count": 33,
     "metadata": {},
     "output_type": "execute_result"
    }
   ],
   "source": [
    "output"
   ]
  },
  {
   "cell_type": "markdown",
   "id": "4e12f5a1",
   "metadata": {},
   "source": [
    "<h4> saving the model </h4>"
   ]
  },
  {
   "cell_type": "code",
   "execution_count": 34,
   "id": "5da046ee",
   "metadata": {
    "ExecuteTime": {
     "end_time": "2022-07-06T15:11:23.135021Z",
     "start_time": "2022-07-06T15:11:23.119339Z"
    }
   },
   "outputs": [],
   "source": [
    "import joblib "
   ]
  },
  {
   "cell_type": "code",
   "execution_count": 35,
   "id": "cf989bb1",
   "metadata": {
    "ExecuteTime": {
     "end_time": "2022-07-06T15:11:24.068162Z",
     "start_time": "2022-07-06T15:11:24.036946Z"
    }
   },
   "outputs": [
    {
     "data": {
      "text/plain": [
       "['diabetes prediction ']"
      ]
     },
     "execution_count": 35,
     "metadata": {},
     "output_type": "execute_result"
    }
   ],
   "source": [
    "joblib.dump(model , 'diabetes prediction ')"
   ]
  },
  {
   "cell_type": "code",
   "execution_count": null,
   "id": "c62496e5",
   "metadata": {},
   "outputs": [],
   "source": []
  }
 ],
 "metadata": {
  "kernelspec": {
   "display_name": "Python 3 (ipykernel)",
   "language": "python",
   "name": "python3"
  },
  "language_info": {
   "codemirror_mode": {
    "name": "ipython",
    "version": 3
   },
   "file_extension": ".py",
   "mimetype": "text/x-python",
   "name": "python",
   "nbconvert_exporter": "python",
   "pygments_lexer": "ipython3",
   "version": "3.9.7"
  }
 },
 "nbformat": 4,
 "nbformat_minor": 5
}
