{
 "cells": [
  {
   "cell_type": "code",
   "execution_count": 1,
   "id": "2590f997",
   "metadata": {
    "_cell_guid": "b1076dfc-b9ad-4769-8c92-a6c4dae69d19",
    "_uuid": "8f2839f25d086af736a60e9eeb907d3b93b6e0e5",
    "execution": {
     "iopub.execute_input": "2022-07-26T15:33:42.071977Z",
     "iopub.status.busy": "2022-07-26T15:33:42.071353Z",
     "iopub.status.idle": "2022-07-26T15:33:42.091860Z",
     "shell.execute_reply": "2022-07-26T15:33:42.090343Z"
    },
    "papermill": {
     "duration": 0.038886,
     "end_time": "2022-07-26T15:33:42.094954",
     "exception": false,
     "start_time": "2022-07-26T15:33:42.056068",
     "status": "completed"
    },
    "tags": []
   },
   "outputs": [
    {
     "name": "stdout",
     "output_type": "stream",
     "text": [
      "/kaggle/input/fake-news/submit.csv\n",
      "/kaggle/input/fake-news/train.csv\n",
      "/kaggle/input/fake-news/test.csv\n"
     ]
    }
   ],
   "source": [
    "# This Python 3 environment comes with many helpful analytics libraries installed\n",
    "# It is defined by the kaggle/python Docker image: https://github.com/kaggle/docker-python\n",
    "# For example, here's several helpful packages to load\n",
    "\n",
    "import numpy as np # linear algebra\n",
    "import pandas as pd # data processing, CSV file I/O (e.g. pd.read_csv)\n",
    "\n",
    "# Input data files are available in the read-only \"../input/\" directory\n",
    "# For example, running this (by clicking run or pressing Shift+Enter) will list all files under the input directory\n",
    "\n",
    "import os\n",
    "for dirname, _, filenames in os.walk('/kaggle/input'):\n",
    "    for filename in filenames:\n",
    "        print(os.path.join(dirname, filename))\n",
    "\n",
    "# You can write up to 20GB to the current directory (/kaggle/working/) that gets preserved as output when you create a version using \"Save & Run All\" \n",
    "# You can also write temporary files to /kaggle/temp/, but they won't be saved outside of the current session"
   ]
  },
  {
   "cell_type": "code",
   "execution_count": 2,
   "id": "12079028",
   "metadata": {
    "execution": {
     "iopub.execute_input": "2022-07-26T15:33:42.121245Z",
     "iopub.status.busy": "2022-07-26T15:33:42.120523Z",
     "iopub.status.idle": "2022-07-26T15:33:43.939155Z",
     "shell.execute_reply": "2022-07-26T15:33:43.938024Z"
    },
    "papermill": {
     "duration": 1.83459,
     "end_time": "2022-07-26T15:33:43.942112",
     "exception": false,
     "start_time": "2022-07-26T15:33:42.107522",
     "status": "completed"
    },
    "tags": []
   },
   "outputs": [],
   "source": [
    "import numpy as np\n",
    "import pandas as pd\n",
    "import re\n",
    "from nltk.corpus import stopwords\n",
    "from nltk.stem.porter import PorterStemmer"
   ]
  },
  {
   "cell_type": "code",
   "execution_count": 3,
   "id": "d37b03a5",
   "metadata": {
    "execution": {
     "iopub.execute_input": "2022-07-26T15:33:43.967893Z",
     "iopub.status.busy": "2022-07-26T15:33:43.967431Z",
     "iopub.status.idle": "2022-07-26T15:33:44.077454Z",
     "shell.execute_reply": "2022-07-26T15:33:44.075834Z"
    },
    "papermill": {
     "duration": 0.126312,
     "end_time": "2022-07-26T15:33:44.080336",
     "exception": false,
     "start_time": "2022-07-26T15:33:43.954024",
     "status": "completed"
    },
    "tags": []
   },
   "outputs": [
    {
     "name": "stderr",
     "output_type": "stream",
     "text": [
      "[nltk_data] Downloading package stopwords to /usr/share/nltk_data...\n",
      "[nltk_data]   Package stopwords is already up-to-date!\n"
     ]
    },
    {
     "data": {
      "text/plain": [
       "True"
      ]
     },
     "execution_count": 3,
     "metadata": {},
     "output_type": "execute_result"
    }
   ],
   "source": [
    "import nltk\n",
    "nltk.download('stopwords')"
   ]
  },
  {
   "cell_type": "code",
   "execution_count": 4,
   "id": "61fb522a",
   "metadata": {
    "execution": {
     "iopub.execute_input": "2022-07-26T15:33:44.108208Z",
     "iopub.status.busy": "2022-07-26T15:33:44.107552Z",
     "iopub.status.idle": "2022-07-26T15:33:44.117236Z",
     "shell.execute_reply": "2022-07-26T15:33:44.115527Z"
    },
    "papermill": {
     "duration": 0.02596,
     "end_time": "2022-07-26T15:33:44.119816",
     "exception": false,
     "start_time": "2022-07-26T15:33:44.093856",
     "status": "completed"
    },
    "tags": []
   },
   "outputs": [
    {
     "name": "stdout",
     "output_type": "stream",
     "text": [
      "['i', 'me', 'my', 'myself', 'we', 'our', 'ours', 'ourselves', 'you', \"you're\", \"you've\", \"you'll\", \"you'd\", 'your', 'yours', 'yourself', 'yourselves', 'he', 'him', 'his', 'himself', 'she', \"she's\", 'her', 'hers', 'herself', 'it', \"it's\", 'its', 'itself', 'they', 'them', 'their', 'theirs', 'themselves', 'what', 'which', 'who', 'whom', 'this', 'that', \"that'll\", 'these', 'those', 'am', 'is', 'are', 'was', 'were', 'be', 'been', 'being', 'have', 'has', 'had', 'having', 'do', 'does', 'did', 'doing', 'a', 'an', 'the', 'and', 'but', 'if', 'or', 'because', 'as', 'until', 'while', 'of', 'at', 'by', 'for', 'with', 'about', 'against', 'between', 'into', 'through', 'during', 'before', 'after', 'above', 'below', 'to', 'from', 'up', 'down', 'in', 'out', 'on', 'off', 'over', 'under', 'again', 'further', 'then', 'once', 'here', 'there', 'when', 'where', 'why', 'how', 'all', 'any', 'both', 'each', 'few', 'more', 'most', 'other', 'some', 'such', 'no', 'nor', 'not', 'only', 'own', 'same', 'so', 'than', 'too', 'very', 's', 't', 'can', 'will', 'just', 'don', \"don't\", 'should', \"should've\", 'now', 'd', 'll', 'm', 'o', 're', 've', 'y', 'ain', 'aren', \"aren't\", 'couldn', \"couldn't\", 'didn', \"didn't\", 'doesn', \"doesn't\", 'hadn', \"hadn't\", 'hasn', \"hasn't\", 'haven', \"haven't\", 'isn', \"isn't\", 'ma', 'mightn', \"mightn't\", 'mustn', \"mustn't\", 'needn', \"needn't\", 'shan', \"shan't\", 'shouldn', \"shouldn't\", 'wasn', \"wasn't\", 'weren', \"weren't\", 'won', \"won't\", 'wouldn', \"wouldn't\"]\n"
     ]
    }
   ],
   "source": [
    "print(stopwords.words('english'))"
   ]
  },
  {
   "cell_type": "code",
   "execution_count": 5,
   "id": "f6d6ec93",
   "metadata": {
    "execution": {
     "iopub.execute_input": "2022-07-26T15:33:44.146210Z",
     "iopub.status.busy": "2022-07-26T15:33:44.145487Z",
     "iopub.status.idle": "2022-07-26T15:33:46.944247Z",
     "shell.execute_reply": "2022-07-26T15:33:46.942987Z"
    },
    "papermill": {
     "duration": 2.815259,
     "end_time": "2022-07-26T15:33:46.947210",
     "exception": false,
     "start_time": "2022-07-26T15:33:44.131951",
     "status": "completed"
    },
    "tags": []
   },
   "outputs": [],
   "source": [
    "df = pd.read_csv('../input/fake-news/train.csv')"
   ]
  },
  {
   "cell_type": "markdown",
   "id": "3a22841f",
   "metadata": {
    "papermill": {
     "duration": 0.011834,
     "end_time": "2022-07-26T15:33:46.971259",
     "exception": false,
     "start_time": "2022-07-26T15:33:46.959425",
     "status": "completed"
    },
    "tags": []
   },
   "source": [
    "Data Preprocessing "
   ]
  },
  {
   "cell_type": "markdown",
   "id": "904cae0d",
   "metadata": {
    "papermill": {
     "duration": 0.011736,
     "end_time": "2022-07-26T15:33:46.995013",
     "exception": false,
     "start_time": "2022-07-26T15:33:46.983277",
     "status": "completed"
    },
    "tags": []
   },
   "source": []
  },
  {
   "cell_type": "markdown",
   "id": "2d0938c9",
   "metadata": {
    "papermill": {
     "duration": 0.012115,
     "end_time": "2022-07-26T15:33:47.019109",
     "exception": false,
     "start_time": "2022-07-26T15:33:47.006994",
     "status": "completed"
    },
    "tags": []
   },
   "source": []
  },
  {
   "cell_type": "code",
   "execution_count": 6,
   "id": "e1375334",
   "metadata": {
    "execution": {
     "iopub.execute_input": "2022-07-26T15:33:47.044975Z",
     "iopub.status.busy": "2022-07-26T15:33:47.044540Z",
     "iopub.status.idle": "2022-07-26T15:33:47.052052Z",
     "shell.execute_reply": "2022-07-26T15:33:47.050771Z"
    },
    "papermill": {
     "duration": 0.023236,
     "end_time": "2022-07-26T15:33:47.054429",
     "exception": false,
     "start_time": "2022-07-26T15:33:47.031193",
     "status": "completed"
    },
    "tags": []
   },
   "outputs": [
    {
     "data": {
      "text/plain": [
       "(20800, 5)"
      ]
     },
     "execution_count": 6,
     "metadata": {},
     "output_type": "execute_result"
    }
   ],
   "source": [
    "df.shape"
   ]
  },
  {
   "cell_type": "code",
   "execution_count": 7,
   "id": "572262db",
   "metadata": {
    "execution": {
     "iopub.execute_input": "2022-07-26T15:33:47.081601Z",
     "iopub.status.busy": "2022-07-26T15:33:47.081192Z",
     "iopub.status.idle": "2022-07-26T15:33:47.122054Z",
     "shell.execute_reply": "2022-07-26T15:33:47.121135Z"
    },
    "papermill": {
     "duration": 0.057276,
     "end_time": "2022-07-26T15:33:47.124273",
     "exception": false,
     "start_time": "2022-07-26T15:33:47.066997",
     "status": "completed"
    },
    "tags": []
   },
   "outputs": [
    {
     "name": "stdout",
     "output_type": "stream",
     "text": [
      "<class 'pandas.core.frame.DataFrame'>\n",
      "RangeIndex: 20800 entries, 0 to 20799\n",
      "Data columns (total 5 columns):\n",
      " #   Column  Non-Null Count  Dtype \n",
      "---  ------  --------------  ----- \n",
      " 0   id      20800 non-null  int64 \n",
      " 1   title   20242 non-null  object\n",
      " 2   author  18843 non-null  object\n",
      " 3   text    20761 non-null  object\n",
      " 4   label   20800 non-null  int64 \n",
      "dtypes: int64(2), object(3)\n",
      "memory usage: 812.6+ KB\n"
     ]
    }
   ],
   "source": [
    "df.info()"
   ]
  },
  {
   "cell_type": "code",
   "execution_count": 8,
   "id": "82f03d10",
   "metadata": {
    "execution": {
     "iopub.execute_input": "2022-07-26T15:33:47.152074Z",
     "iopub.status.busy": "2022-07-26T15:33:47.151202Z",
     "iopub.status.idle": "2022-07-26T15:33:47.168660Z",
     "shell.execute_reply": "2022-07-26T15:33:47.167478Z"
    },
    "papermill": {
     "duration": 0.034366,
     "end_time": "2022-07-26T15:33:47.171428",
     "exception": false,
     "start_time": "2022-07-26T15:33:47.137062",
     "status": "completed"
    },
    "tags": []
   },
   "outputs": [
    {
     "data": {
      "text/html": [
       "<div>\n",
       "<style scoped>\n",
       "    .dataframe tbody tr th:only-of-type {\n",
       "        vertical-align: middle;\n",
       "    }\n",
       "\n",
       "    .dataframe tbody tr th {\n",
       "        vertical-align: top;\n",
       "    }\n",
       "\n",
       "    .dataframe thead th {\n",
       "        text-align: right;\n",
       "    }\n",
       "</style>\n",
       "<table border=\"1\" class=\"dataframe\">\n",
       "  <thead>\n",
       "    <tr style=\"text-align: right;\">\n",
       "      <th></th>\n",
       "      <th>id</th>\n",
       "      <th>title</th>\n",
       "      <th>author</th>\n",
       "      <th>text</th>\n",
       "      <th>label</th>\n",
       "    </tr>\n",
       "  </thead>\n",
       "  <tbody>\n",
       "    <tr>\n",
       "      <th>0</th>\n",
       "      <td>0</td>\n",
       "      <td>House Dem Aide: We Didn’t Even See Comey’s Let...</td>\n",
       "      <td>Darrell Lucus</td>\n",
       "      <td>House Dem Aide: We Didn’t Even See Comey’s Let...</td>\n",
       "      <td>1</td>\n",
       "    </tr>\n",
       "    <tr>\n",
       "      <th>1</th>\n",
       "      <td>1</td>\n",
       "      <td>FLYNN: Hillary Clinton, Big Woman on Campus - ...</td>\n",
       "      <td>Daniel J. Flynn</td>\n",
       "      <td>Ever get the feeling your life circles the rou...</td>\n",
       "      <td>0</td>\n",
       "    </tr>\n",
       "    <tr>\n",
       "      <th>2</th>\n",
       "      <td>2</td>\n",
       "      <td>Why the Truth Might Get You Fired</td>\n",
       "      <td>Consortiumnews.com</td>\n",
       "      <td>Why the Truth Might Get You Fired October 29, ...</td>\n",
       "      <td>1</td>\n",
       "    </tr>\n",
       "    <tr>\n",
       "      <th>3</th>\n",
       "      <td>3</td>\n",
       "      <td>15 Civilians Killed In Single US Airstrike Hav...</td>\n",
       "      <td>Jessica Purkiss</td>\n",
       "      <td>Videos 15 Civilians Killed In Single US Airstr...</td>\n",
       "      <td>1</td>\n",
       "    </tr>\n",
       "    <tr>\n",
       "      <th>4</th>\n",
       "      <td>4</td>\n",
       "      <td>Iranian woman jailed for fictional unpublished...</td>\n",
       "      <td>Howard Portnoy</td>\n",
       "      <td>Print \\nAn Iranian woman has been sentenced to...</td>\n",
       "      <td>1</td>\n",
       "    </tr>\n",
       "  </tbody>\n",
       "</table>\n",
       "</div>"
      ],
      "text/plain": [
       "   id                                              title              author  \\\n",
       "0   0  House Dem Aide: We Didn’t Even See Comey’s Let...       Darrell Lucus   \n",
       "1   1  FLYNN: Hillary Clinton, Big Woman on Campus - ...     Daniel J. Flynn   \n",
       "2   2                  Why the Truth Might Get You Fired  Consortiumnews.com   \n",
       "3   3  15 Civilians Killed In Single US Airstrike Hav...     Jessica Purkiss   \n",
       "4   4  Iranian woman jailed for fictional unpublished...      Howard Portnoy   \n",
       "\n",
       "                                                text  label  \n",
       "0  House Dem Aide: We Didn’t Even See Comey’s Let...      1  \n",
       "1  Ever get the feeling your life circles the rou...      0  \n",
       "2  Why the Truth Might Get You Fired October 29, ...      1  \n",
       "3  Videos 15 Civilians Killed In Single US Airstr...      1  \n",
       "4  Print \\nAn Iranian woman has been sentenced to...      1  "
      ]
     },
     "execution_count": 8,
     "metadata": {},
     "output_type": "execute_result"
    }
   ],
   "source": [
    "df.head()"
   ]
  },
  {
   "cell_type": "code",
   "execution_count": 9,
   "id": "6499b289",
   "metadata": {
    "execution": {
     "iopub.execute_input": "2022-07-26T15:33:47.199368Z",
     "iopub.status.busy": "2022-07-26T15:33:47.198477Z",
     "iopub.status.idle": "2022-07-26T15:33:47.217156Z",
     "shell.execute_reply": "2022-07-26T15:33:47.216054Z"
    },
    "papermill": {
     "duration": 0.035445,
     "end_time": "2022-07-26T15:33:47.219650",
     "exception": false,
     "start_time": "2022-07-26T15:33:47.184205",
     "status": "completed"
    },
    "tags": []
   },
   "outputs": [
    {
     "data": {
      "text/plain": [
       "id           0\n",
       "title      558\n",
       "author    1957\n",
       "text        39\n",
       "label        0\n",
       "dtype: int64"
      ]
     },
     "execution_count": 9,
     "metadata": {},
     "output_type": "execute_result"
    }
   ],
   "source": [
    "df.isnull().sum()"
   ]
  },
  {
   "cell_type": "code",
   "execution_count": 10,
   "id": "55472501",
   "metadata": {
    "execution": {
     "iopub.execute_input": "2022-07-26T15:33:47.247620Z",
     "iopub.status.busy": "2022-07-26T15:33:47.246795Z",
     "iopub.status.idle": "2022-07-26T15:33:47.262889Z",
     "shell.execute_reply": "2022-07-26T15:33:47.261843Z"
    },
    "papermill": {
     "duration": 0.033052,
     "end_time": "2022-07-26T15:33:47.265500",
     "exception": false,
     "start_time": "2022-07-26T15:33:47.232448",
     "status": "completed"
    },
    "tags": []
   },
   "outputs": [],
   "source": [
    "## according to have enough dataset we will fill null values with empty string \n",
    "df = df.fillna('')"
   ]
  },
  {
   "cell_type": "code",
   "execution_count": 11,
   "id": "b6e32ce3",
   "metadata": {
    "execution": {
     "iopub.execute_input": "2022-07-26T15:33:47.293298Z",
     "iopub.status.busy": "2022-07-26T15:33:47.292448Z",
     "iopub.status.idle": "2022-07-26T15:33:47.311354Z",
     "shell.execute_reply": "2022-07-26T15:33:47.310182Z"
    },
    "papermill": {
     "duration": 0.035358,
     "end_time": "2022-07-26T15:33:47.313622",
     "exception": false,
     "start_time": "2022-07-26T15:33:47.278264",
     "status": "completed"
    },
    "tags": []
   },
   "outputs": [
    {
     "data": {
      "text/plain": [
       "id        0\n",
       "title     0\n",
       "author    0\n",
       "text      0\n",
       "label     0\n",
       "dtype: int64"
      ]
     },
     "execution_count": 11,
     "metadata": {},
     "output_type": "execute_result"
    }
   ],
   "source": [
    "df.isnull().sum()"
   ]
  },
  {
   "cell_type": "code",
   "execution_count": 12,
   "id": "42ee35b6",
   "metadata": {
    "execution": {
     "iopub.execute_input": "2022-07-26T15:33:47.342072Z",
     "iopub.status.busy": "2022-07-26T15:33:47.341673Z",
     "iopub.status.idle": "2022-07-26T15:33:47.357025Z",
     "shell.execute_reply": "2022-07-26T15:33:47.355919Z"
    },
    "papermill": {
     "duration": 0.03271,
     "end_time": "2022-07-26T15:33:47.359359",
     "exception": false,
     "start_time": "2022-07-26T15:33:47.326649",
     "status": "completed"
    },
    "tags": []
   },
   "outputs": [],
   "source": [
    "## Data regularization we wiil combine author with tittle\n",
    "df['Description'] = df['title'] + '' +df['author']"
   ]
  },
  {
   "cell_type": "code",
   "execution_count": 13,
   "id": "a46c8b77",
   "metadata": {
    "execution": {
     "iopub.execute_input": "2022-07-26T15:33:47.388440Z",
     "iopub.status.busy": "2022-07-26T15:33:47.387277Z",
     "iopub.status.idle": "2022-07-26T15:33:47.406278Z",
     "shell.execute_reply": "2022-07-26T15:33:47.405117Z"
    },
    "papermill": {
     "duration": 0.036403,
     "end_time": "2022-07-26T15:33:47.408650",
     "exception": false,
     "start_time": "2022-07-26T15:33:47.372247",
     "status": "completed"
    },
    "tags": []
   },
   "outputs": [
    {
     "data": {
      "text/html": [
       "<div>\n",
       "<style scoped>\n",
       "    .dataframe tbody tr th:only-of-type {\n",
       "        vertical-align: middle;\n",
       "    }\n",
       "\n",
       "    .dataframe tbody tr th {\n",
       "        vertical-align: top;\n",
       "    }\n",
       "\n",
       "    .dataframe thead th {\n",
       "        text-align: right;\n",
       "    }\n",
       "</style>\n",
       "<table border=\"1\" class=\"dataframe\">\n",
       "  <thead>\n",
       "    <tr style=\"text-align: right;\">\n",
       "      <th></th>\n",
       "      <th>Description</th>\n",
       "    </tr>\n",
       "  </thead>\n",
       "  <tbody>\n",
       "    <tr>\n",
       "      <th>0</th>\n",
       "      <td>House Dem Aide: We Didn’t Even See Comey’s Let...</td>\n",
       "    </tr>\n",
       "    <tr>\n",
       "      <th>1</th>\n",
       "      <td>FLYNN: Hillary Clinton, Big Woman on Campus - ...</td>\n",
       "    </tr>\n",
       "    <tr>\n",
       "      <th>2</th>\n",
       "      <td>Why the Truth Might Get You FiredConsortiumnew...</td>\n",
       "    </tr>\n",
       "    <tr>\n",
       "      <th>3</th>\n",
       "      <td>15 Civilians Killed In Single US Airstrike Hav...</td>\n",
       "    </tr>\n",
       "    <tr>\n",
       "      <th>4</th>\n",
       "      <td>Iranian woman jailed for fictional unpublished...</td>\n",
       "    </tr>\n",
       "    <tr>\n",
       "      <th>...</th>\n",
       "      <td>...</td>\n",
       "    </tr>\n",
       "    <tr>\n",
       "      <th>20795</th>\n",
       "      <td>Rapper T.I.: Trump a ’Poster Child For White S...</td>\n",
       "    </tr>\n",
       "    <tr>\n",
       "      <th>20796</th>\n",
       "      <td>N.F.L. Playoffs: Schedule, Matchups and Odds -...</td>\n",
       "    </tr>\n",
       "    <tr>\n",
       "      <th>20797</th>\n",
       "      <td>Macy’s Is Said to Receive Takeover Approach by...</td>\n",
       "    </tr>\n",
       "    <tr>\n",
       "      <th>20798</th>\n",
       "      <td>NATO, Russia To Hold Parallel Exercises In Bal...</td>\n",
       "    </tr>\n",
       "    <tr>\n",
       "      <th>20799</th>\n",
       "      <td>What Keeps the F-35 AliveDavid Swanson</td>\n",
       "    </tr>\n",
       "  </tbody>\n",
       "</table>\n",
       "<p>20800 rows × 1 columns</p>\n",
       "</div>"
      ],
      "text/plain": [
       "                                             Description\n",
       "0      House Dem Aide: We Didn’t Even See Comey’s Let...\n",
       "1      FLYNN: Hillary Clinton, Big Woman on Campus - ...\n",
       "2      Why the Truth Might Get You FiredConsortiumnew...\n",
       "3      15 Civilians Killed In Single US Airstrike Hav...\n",
       "4      Iranian woman jailed for fictional unpublished...\n",
       "...                                                  ...\n",
       "20795  Rapper T.I.: Trump a ’Poster Child For White S...\n",
       "20796  N.F.L. Playoffs: Schedule, Matchups and Odds -...\n",
       "20797  Macy’s Is Said to Receive Takeover Approach by...\n",
       "20798  NATO, Russia To Hold Parallel Exercises In Bal...\n",
       "20799             What Keeps the F-35 AliveDavid Swanson\n",
       "\n",
       "[20800 rows x 1 columns]"
      ]
     },
     "execution_count": 13,
     "metadata": {},
     "output_type": "execute_result"
    }
   ],
   "source": [
    "df[['Description']]"
   ]
  },
  {
   "cell_type": "code",
   "execution_count": 14,
   "id": "c67d96ec",
   "metadata": {
    "execution": {
     "iopub.execute_input": "2022-07-26T15:33:47.437700Z",
     "iopub.status.busy": "2022-07-26T15:33:47.436556Z",
     "iopub.status.idle": "2022-07-26T15:33:47.447284Z",
     "shell.execute_reply": "2022-07-26T15:33:47.446021Z"
    },
    "papermill": {
     "duration": 0.027863,
     "end_time": "2022-07-26T15:33:47.449877",
     "exception": false,
     "start_time": "2022-07-26T15:33:47.422014",
     "status": "completed"
    },
    "tags": []
   },
   "outputs": [],
   "source": [
    "df = df.drop(columns =['title','author'])"
   ]
  },
  {
   "cell_type": "code",
   "execution_count": 15,
   "id": "a8095058",
   "metadata": {
    "execution": {
     "iopub.execute_input": "2022-07-26T15:33:47.478638Z",
     "iopub.status.busy": "2022-07-26T15:33:47.478207Z",
     "iopub.status.idle": "2022-07-26T15:33:47.490202Z",
     "shell.execute_reply": "2022-07-26T15:33:47.489068Z"
    },
    "papermill": {
     "duration": 0.02924,
     "end_time": "2022-07-26T15:33:47.492660",
     "exception": false,
     "start_time": "2022-07-26T15:33:47.463420",
     "status": "completed"
    },
    "tags": []
   },
   "outputs": [
    {
     "data": {
      "text/html": [
       "<div>\n",
       "<style scoped>\n",
       "    .dataframe tbody tr th:only-of-type {\n",
       "        vertical-align: middle;\n",
       "    }\n",
       "\n",
       "    .dataframe tbody tr th {\n",
       "        vertical-align: top;\n",
       "    }\n",
       "\n",
       "    .dataframe thead th {\n",
       "        text-align: right;\n",
       "    }\n",
       "</style>\n",
       "<table border=\"1\" class=\"dataframe\">\n",
       "  <thead>\n",
       "    <tr style=\"text-align: right;\">\n",
       "      <th></th>\n",
       "      <th>id</th>\n",
       "      <th>text</th>\n",
       "      <th>label</th>\n",
       "      <th>Description</th>\n",
       "    </tr>\n",
       "  </thead>\n",
       "  <tbody>\n",
       "    <tr>\n",
       "      <th>0</th>\n",
       "      <td>0</td>\n",
       "      <td>House Dem Aide: We Didn’t Even See Comey’s Let...</td>\n",
       "      <td>1</td>\n",
       "      <td>House Dem Aide: We Didn’t Even See Comey’s Let...</td>\n",
       "    </tr>\n",
       "    <tr>\n",
       "      <th>1</th>\n",
       "      <td>1</td>\n",
       "      <td>Ever get the feeling your life circles the rou...</td>\n",
       "      <td>0</td>\n",
       "      <td>FLYNN: Hillary Clinton, Big Woman on Campus - ...</td>\n",
       "    </tr>\n",
       "    <tr>\n",
       "      <th>2</th>\n",
       "      <td>2</td>\n",
       "      <td>Why the Truth Might Get You Fired October 29, ...</td>\n",
       "      <td>1</td>\n",
       "      <td>Why the Truth Might Get You FiredConsortiumnew...</td>\n",
       "    </tr>\n",
       "    <tr>\n",
       "      <th>3</th>\n",
       "      <td>3</td>\n",
       "      <td>Videos 15 Civilians Killed In Single US Airstr...</td>\n",
       "      <td>1</td>\n",
       "      <td>15 Civilians Killed In Single US Airstrike Hav...</td>\n",
       "    </tr>\n",
       "    <tr>\n",
       "      <th>4</th>\n",
       "      <td>4</td>\n",
       "      <td>Print \\nAn Iranian woman has been sentenced to...</td>\n",
       "      <td>1</td>\n",
       "      <td>Iranian woman jailed for fictional unpublished...</td>\n",
       "    </tr>\n",
       "  </tbody>\n",
       "</table>\n",
       "</div>"
      ],
      "text/plain": [
       "   id                                               text  label  \\\n",
       "0   0  House Dem Aide: We Didn’t Even See Comey’s Let...      1   \n",
       "1   1  Ever get the feeling your life circles the rou...      0   \n",
       "2   2  Why the Truth Might Get You Fired October 29, ...      1   \n",
       "3   3  Videos 15 Civilians Killed In Single US Airstr...      1   \n",
       "4   4  Print \\nAn Iranian woman has been sentenced to...      1   \n",
       "\n",
       "                                         Description  \n",
       "0  House Dem Aide: We Didn’t Even See Comey’s Let...  \n",
       "1  FLYNN: Hillary Clinton, Big Woman on Campus - ...  \n",
       "2  Why the Truth Might Get You FiredConsortiumnew...  \n",
       "3  15 Civilians Killed In Single US Airstrike Hav...  \n",
       "4  Iranian woman jailed for fictional unpublished...  "
      ]
     },
     "execution_count": 15,
     "metadata": {},
     "output_type": "execute_result"
    }
   ],
   "source": [
    "df.head()"
   ]
  },
  {
   "cell_type": "markdown",
   "id": "92b416c9",
   "metadata": {
    "papermill": {
     "duration": 0.013268,
     "end_time": "2022-07-26T15:33:47.519658",
     "exception": false,
     "start_time": "2022-07-26T15:33:47.506390",
     "status": "completed"
    },
    "tags": []
   },
   "source": []
  },
  {
   "cell_type": "markdown",
   "id": "7fb1a5a1",
   "metadata": {
    "papermill": {
     "duration": 0.013051,
     "end_time": "2022-07-26T15:33:47.546065",
     "exception": false,
     "start_time": "2022-07-26T15:33:47.533014",
     "status": "completed"
    },
    "tags": []
   },
   "source": [
    "Stemming:\n",
    "\n",
    "Stemming is the process of reducing a word to its Root word"
   ]
  },
  {
   "cell_type": "code",
   "execution_count": 16,
   "id": "47942acf",
   "metadata": {
    "execution": {
     "iopub.execute_input": "2022-07-26T15:33:47.575128Z",
     "iopub.status.busy": "2022-07-26T15:33:47.574317Z",
     "iopub.status.idle": "2022-07-26T15:33:47.579405Z",
     "shell.execute_reply": "2022-07-26T15:33:47.578651Z"
    },
    "papermill": {
     "duration": 0.022154,
     "end_time": "2022-07-26T15:33:47.581744",
     "exception": false,
     "start_time": "2022-07-26T15:33:47.559590",
     "status": "completed"
    },
    "tags": []
   },
   "outputs": [],
   "source": [
    "port_stem = PorterStemmer()"
   ]
  },
  {
   "cell_type": "code",
   "execution_count": 17,
   "id": "ab4d244e",
   "metadata": {
    "execution": {
     "iopub.execute_input": "2022-07-26T15:33:47.616335Z",
     "iopub.status.busy": "2022-07-26T15:33:47.615585Z",
     "iopub.status.idle": "2022-07-26T15:33:47.622248Z",
     "shell.execute_reply": "2022-07-26T15:33:47.621413Z"
    },
    "papermill": {
     "duration": 0.028893,
     "end_time": "2022-07-26T15:33:47.624423",
     "exception": false,
     "start_time": "2022-07-26T15:33:47.595530",
     "status": "completed"
    },
    "tags": []
   },
   "outputs": [],
   "source": [
    "def stemming(content):\n",
    "    stemmed_content = re.sub('[^a-zA-Z]',' ',content)\n",
    "    stemmed_content = stemmed_content.lower()\n",
    "    stemmed_content = stemmed_content.split()\n",
    "    stemmed_content = [port_stem.stem(word) for word in stemmed_content if not word in stopwords.words('english')]\n",
    "    stemmed_content = ' '.join(stemmed_content)\n",
    "    return stemmed_content"
   ]
  },
  {
   "cell_type": "code",
   "execution_count": 18,
   "id": "88571349",
   "metadata": {
    "execution": {
     "iopub.execute_input": "2022-07-26T15:33:47.653863Z",
     "iopub.status.busy": "2022-07-26T15:33:47.653085Z",
     "iopub.status.idle": "2022-07-26T15:34:30.228977Z",
     "shell.execute_reply": "2022-07-26T15:34:30.227659Z"
    },
    "papermill": {
     "duration": 42.593602,
     "end_time": "2022-07-26T15:34:30.231868",
     "exception": false,
     "start_time": "2022-07-26T15:33:47.638266",
     "status": "completed"
    },
    "tags": []
   },
   "outputs": [],
   "source": [
    "df['Description'] = df['Description'].apply(stemming)"
   ]
  },
  {
   "cell_type": "code",
   "execution_count": 19,
   "id": "3f7f40c0",
   "metadata": {
    "execution": {
     "iopub.execute_input": "2022-07-26T15:34:30.263223Z",
     "iopub.status.busy": "2022-07-26T15:34:30.261756Z",
     "iopub.status.idle": "2022-07-26T15:34:30.272648Z",
     "shell.execute_reply": "2022-07-26T15:34:30.271353Z"
    },
    "papermill": {
     "duration": 0.029521,
     "end_time": "2022-07-26T15:34:30.275388",
     "exception": false,
     "start_time": "2022-07-26T15:34:30.245867",
     "status": "completed"
    },
    "tags": []
   },
   "outputs": [
    {
     "data": {
      "text/plain": [
       "0        hous dem aid even see comey letter jason chaff...\n",
       "1        flynn hillari clinton big woman campu breitbar...\n",
       "2                   truth might get firedconsortiumnew com\n",
       "3        civilian kill singl us airstrik identifiedjess...\n",
       "4        iranian woman jail fiction unpublish stori wom...\n",
       "                               ...                        \n",
       "20795    rapper trump poster child white supremaci jero...\n",
       "20796    n f l playoff schedul matchup odd new york tim...\n",
       "20797    maci said receiv takeov approach hudson bay ne...\n",
       "20798    nato russia hold parallel exercis balkansalex ...\n",
       "20799                            keep f alivedavid swanson\n",
       "Name: Description, Length: 20800, dtype: object"
      ]
     },
     "execution_count": 19,
     "metadata": {},
     "output_type": "execute_result"
    }
   ],
   "source": [
    "df['Description'] "
   ]
  },
  {
   "cell_type": "code",
   "execution_count": 20,
   "id": "15ab03fe",
   "metadata": {
    "execution": {
     "iopub.execute_input": "2022-07-26T15:34:30.305726Z",
     "iopub.status.busy": "2022-07-26T15:34:30.305315Z",
     "iopub.status.idle": "2022-07-26T15:34:30.312404Z",
     "shell.execute_reply": "2022-07-26T15:34:30.311162Z"
    },
    "papermill": {
     "duration": 0.02563,
     "end_time": "2022-07-26T15:34:30.315267",
     "exception": false,
     "start_time": "2022-07-26T15:34:30.289637",
     "status": "completed"
    },
    "tags": []
   },
   "outputs": [],
   "source": [
    "#split the data to x and y\n",
    "x = df['Description'].values\n",
    "y= df['label']"
   ]
  },
  {
   "cell_type": "code",
   "execution_count": 21,
   "id": "90bbdfb3",
   "metadata": {
    "execution": {
     "iopub.execute_input": "2022-07-26T15:34:30.345123Z",
     "iopub.status.busy": "2022-07-26T15:34:30.344434Z",
     "iopub.status.idle": "2022-07-26T15:34:30.351435Z",
     "shell.execute_reply": "2022-07-26T15:34:30.350257Z"
    },
    "papermill": {
     "duration": 0.024729,
     "end_time": "2022-07-26T15:34:30.353935",
     "exception": false,
     "start_time": "2022-07-26T15:34:30.329206",
     "status": "completed"
    },
    "tags": []
   },
   "outputs": [
    {
     "data": {
      "text/plain": [
       "(20800,)"
      ]
     },
     "execution_count": 21,
     "metadata": {},
     "output_type": "execute_result"
    }
   ],
   "source": [
    "x.shape"
   ]
  },
  {
   "cell_type": "code",
   "execution_count": 22,
   "id": "dacc71aa",
   "metadata": {
    "execution": {
     "iopub.execute_input": "2022-07-26T15:34:30.383079Z",
     "iopub.status.busy": "2022-07-26T15:34:30.382724Z",
     "iopub.status.idle": "2022-07-26T15:34:30.389139Z",
     "shell.execute_reply": "2022-07-26T15:34:30.388058Z"
    },
    "papermill": {
     "duration": 0.023887,
     "end_time": "2022-07-26T15:34:30.391411",
     "exception": false,
     "start_time": "2022-07-26T15:34:30.367524",
     "status": "completed"
    },
    "tags": []
   },
   "outputs": [
    {
     "data": {
      "text/plain": [
       "(20800,)"
      ]
     },
     "execution_count": 22,
     "metadata": {},
     "output_type": "execute_result"
    }
   ],
   "source": [
    "y.shape"
   ]
  },
  {
   "cell_type": "code",
   "execution_count": 23,
   "id": "e47bb23c",
   "metadata": {
    "execution": {
     "iopub.execute_input": "2022-07-26T15:34:30.421425Z",
     "iopub.status.busy": "2022-07-26T15:34:30.420704Z",
     "iopub.status.idle": "2022-07-26T15:34:31.137118Z",
     "shell.execute_reply": "2022-07-26T15:34:31.135975Z"
    },
    "papermill": {
     "duration": 0.734616,
     "end_time": "2022-07-26T15:34:31.140076",
     "exception": false,
     "start_time": "2022-07-26T15:34:30.405460",
     "status": "completed"
    },
    "tags": []
   },
   "outputs": [],
   "source": [
    "# converting the textual data to numerical data\n",
    "from sklearn.feature_extraction.text import TfidfVectorizer\n",
    "vectorizer = TfidfVectorizer()\n",
    "vectorizer.fit(x)\n",
    "\n",
    "x = vectorizer.transform(x)"
   ]
  },
  {
   "cell_type": "code",
   "execution_count": 24,
   "id": "b811b6bb",
   "metadata": {
    "execution": {
     "iopub.execute_input": "2022-07-26T15:34:31.169613Z",
     "iopub.status.busy": "2022-07-26T15:34:31.169202Z",
     "iopub.status.idle": "2022-07-26T15:34:31.179172Z",
     "shell.execute_reply": "2022-07-26T15:34:31.178017Z"
    },
    "papermill": {
     "duration": 0.027593,
     "end_time": "2022-07-26T15:34:31.181678",
     "exception": false,
     "start_time": "2022-07-26T15:34:31.154085",
     "status": "completed"
    },
    "tags": []
   },
   "outputs": [
    {
     "name": "stdout",
     "output_type": "stream",
     "text": [
      "  (0, 21557)\t0.2736369479869461\n",
      "  (0, 18009)\t0.2438301027041085\n",
      "  (0, 11974)\t0.34466883664274506\n",
      "  (0, 11617)\t0.2783091851108118\n",
      "  (0, 10495)\t0.311553446057155\n",
      "  (0, 10381)\t0.41343221816522613\n",
      "  (0, 9475)\t0.20871803491508256\n",
      "  (0, 6798)\t0.22134331972572915\n",
      "  (0, 5178)\t0.25645024223907936\n",
      "  (0, 3933)\t0.23592778464338887\n",
      "  (0, 3291)\t0.34851330509336254\n",
      "  (0, 381)\t0.25686395241555227\n",
      "  (1, 23108)\t0.2952143706864955\n",
      "  (1, 9174)\t0.18812765977413537\n",
      "  (1, 7534)\t0.6987204016565229\n",
      "  (1, 3714)\t0.18820851327454977\n",
      "  (1, 2957)\t0.37436858023248293\n",
      "  (1, 2482)\t0.3616637468521842\n",
      "  (1, 1956)\t0.2878737833766196\n",
      "  (2, 21453)\t0.41331452278016145\n",
      "  (2, 12835)\t0.4627692646157023\n",
      "  (2, 8113)\t0.3260098284202015\n",
      "  (2, 7391)\t0.6469324358467595\n",
      "  (2, 3910)\t0.30035267305096314\n",
      "  (3, 21978)\t0.23565193182482072\n",
      "  :\t:\n",
      "  (20797, 23430)\t0.08239795721216821\n",
      "  (20797, 20788)\t0.19858848268663878\n",
      "  (20797, 19961)\t0.32033450422171095\n",
      "  (20797, 17564)\t0.24595228419376997\n",
      "  (20797, 16511)\t0.2701082984026285\n",
      "  (20797, 16242)\t0.26138762441775215\n",
      "  (20797, 13686)\t0.07963596797146637\n",
      "  (20797, 12710)\t0.29268298480392924\n",
      "  (20797, 12062)\t0.35825796183079206\n",
      "  (20797, 11247)\t0.22115741003482425\n",
      "  (20797, 9530)\t0.2159705521323658\n",
      "  (20797, 4956)\t0.20977279480430666\n",
      "  (20797, 1719)\t0.33227287481144197\n",
      "  (20797, 937)\t0.30401505825124225\n",
      "  (20797, 54)\t0.29434941720236085\n",
      "  (20798, 17456)\t0.23135838404922235\n",
      "  (20798, 14719)\t0.4545605136834298\n",
      "  (20798, 13532)\t0.3274423107890453\n",
      "  (20798, 9311)\t0.331161903207525\n",
      "  (20798, 6885)\t0.4161602827826835\n",
      "  (20798, 1517)\t0.4991866119925705\n",
      "  (20798, 805)\t0.31715092612304463\n",
      "  (20799, 19781)\t0.5424505449862735\n",
      "  (20799, 10881)\t0.4393421136105601\n",
      "  (20799, 529)\t0.7160488205788069\n"
     ]
    }
   ],
   "source": [
    "print(x)"
   ]
  },
  {
   "cell_type": "markdown",
   "id": "b505e02c",
   "metadata": {
    "papermill": {
     "duration": 0.013825,
     "end_time": "2022-07-26T15:34:31.209483",
     "exception": false,
     "start_time": "2022-07-26T15:34:31.195658",
     "status": "completed"
    },
    "tags": []
   },
   "source": [
    "Splitting the dataset to training & test data****"
   ]
  },
  {
   "cell_type": "code",
   "execution_count": 25,
   "id": "b541956b",
   "metadata": {
    "execution": {
     "iopub.execute_input": "2022-07-26T15:34:31.240150Z",
     "iopub.status.busy": "2022-07-26T15:34:31.239268Z",
     "iopub.status.idle": "2022-07-26T15:34:31.243600Z",
     "shell.execute_reply": "2022-07-26T15:34:31.242810Z"
    },
    "papermill": {
     "duration": 0.022196,
     "end_time": "2022-07-26T15:34:31.245865",
     "exception": false,
     "start_time": "2022-07-26T15:34:31.223669",
     "status": "completed"
    },
    "tags": []
   },
   "outputs": [],
   "source": [
    "from sklearn.model_selection import train_test_split"
   ]
  },
  {
   "cell_type": "code",
   "execution_count": 26,
   "id": "f6ba60c5",
   "metadata": {
    "execution": {
     "iopub.execute_input": "2022-07-26T15:34:31.276829Z",
     "iopub.status.busy": "2022-07-26T15:34:31.276047Z",
     "iopub.status.idle": "2022-07-26T15:34:31.298402Z",
     "shell.execute_reply": "2022-07-26T15:34:31.296922Z"
    },
    "papermill": {
     "duration": 0.041261,
     "end_time": "2022-07-26T15:34:31.301324",
     "exception": false,
     "start_time": "2022-07-26T15:34:31.260063",
     "status": "completed"
    },
    "tags": []
   },
   "outputs": [],
   "source": [
    "x_train , x_test , y_train , y_test = train_test_split(x,y,test_size = .20 ,stratify=y, random_state=1)"
   ]
  },
  {
   "cell_type": "markdown",
   "id": "d39a7535",
   "metadata": {
    "papermill": {
     "duration": 0.01427,
     "end_time": "2022-07-26T15:34:31.329968",
     "exception": false,
     "start_time": "2022-07-26T15:34:31.315698",
     "status": "completed"
    },
    "tags": []
   },
   "source": []
  },
  {
   "cell_type": "markdown",
   "id": "24c5b2e6",
   "metadata": {
    "papermill": {
     "duration": 0.014396,
     "end_time": "2022-07-26T15:34:31.358787",
     "exception": false,
     "start_time": "2022-07-26T15:34:31.344391",
     "status": "completed"
    },
    "tags": []
   },
   "source": [
    "Choose the right model"
   ]
  },
  {
   "cell_type": "code",
   "execution_count": 27,
   "id": "b4eb7076",
   "metadata": {
    "execution": {
     "iopub.execute_input": "2022-07-26T15:34:31.388956Z",
     "iopub.status.busy": "2022-07-26T15:34:31.388510Z",
     "iopub.status.idle": "2022-07-26T15:34:31.393407Z",
     "shell.execute_reply": "2022-07-26T15:34:31.392610Z"
    },
    "papermill": {
     "duration": 0.022314,
     "end_time": "2022-07-26T15:34:31.395599",
     "exception": false,
     "start_time": "2022-07-26T15:34:31.373285",
     "status": "completed"
    },
    "tags": []
   },
   "outputs": [],
   "source": [
    "from sklearn.linear_model import LogisticRegression"
   ]
  },
  {
   "cell_type": "code",
   "execution_count": 28,
   "id": "d8f83f67",
   "metadata": {
    "execution": {
     "iopub.execute_input": "2022-07-26T15:34:31.425227Z",
     "iopub.status.busy": "2022-07-26T15:34:31.424312Z",
     "iopub.status.idle": "2022-07-26T15:34:31.429730Z",
     "shell.execute_reply": "2022-07-26T15:34:31.428620Z"
    },
    "papermill": {
     "duration": 0.023051,
     "end_time": "2022-07-26T15:34:31.432357",
     "exception": false,
     "start_time": "2022-07-26T15:34:31.409306",
     "status": "completed"
    },
    "tags": []
   },
   "outputs": [],
   "source": [
    "model = LogisticRegression()"
   ]
  },
  {
   "cell_type": "code",
   "execution_count": 29,
   "id": "12c87b07",
   "metadata": {
    "execution": {
     "iopub.execute_input": "2022-07-26T15:34:31.462666Z",
     "iopub.status.busy": "2022-07-26T15:34:31.461814Z",
     "iopub.status.idle": "2022-07-26T15:34:32.123282Z",
     "shell.execute_reply": "2022-07-26T15:34:32.122007Z"
    },
    "papermill": {
     "duration": 0.679838,
     "end_time": "2022-07-26T15:34:32.126560",
     "exception": false,
     "start_time": "2022-07-26T15:34:31.446722",
     "status": "completed"
    },
    "tags": []
   },
   "outputs": [
    {
     "data": {
      "text/plain": [
       "LogisticRegression()"
      ]
     },
     "execution_count": 29,
     "metadata": {},
     "output_type": "execute_result"
    }
   ],
   "source": [
    "model.fit(x_train, y_train)"
   ]
  },
  {
   "cell_type": "code",
   "execution_count": 30,
   "id": "c84e54a1",
   "metadata": {
    "execution": {
     "iopub.execute_input": "2022-07-26T15:34:32.219907Z",
     "iopub.status.busy": "2022-07-26T15:34:32.219354Z",
     "iopub.status.idle": "2022-07-26T15:34:32.231529Z",
     "shell.execute_reply": "2022-07-26T15:34:32.230663Z"
    },
    "papermill": {
     "duration": 0.067165,
     "end_time": "2022-07-26T15:34:32.233664",
     "exception": false,
     "start_time": "2022-07-26T15:34:32.166499",
     "status": "completed"
    },
    "tags": []
   },
   "outputs": [
    {
     "data": {
      "text/plain": [
       "0.9826322115384616"
      ]
     },
     "execution_count": 30,
     "metadata": {},
     "output_type": "execute_result"
    }
   ],
   "source": [
    "#the accuracy score of training data \n",
    "model.score(x_train,y_train)"
   ]
  },
  {
   "cell_type": "code",
   "execution_count": 31,
   "id": "99ff8e3b",
   "metadata": {
    "execution": {
     "iopub.execute_input": "2022-07-26T15:34:32.263827Z",
     "iopub.status.busy": "2022-07-26T15:34:32.263157Z",
     "iopub.status.idle": "2022-07-26T15:34:32.268067Z",
     "shell.execute_reply": "2022-07-26T15:34:32.267100Z"
    },
    "papermill": {
     "duration": 0.022735,
     "end_time": "2022-07-26T15:34:32.270384",
     "exception": false,
     "start_time": "2022-07-26T15:34:32.247649",
     "status": "completed"
    },
    "tags": []
   },
   "outputs": [],
   "source": [
    "y_predicted = model.predict(x_test)"
   ]
  },
  {
   "cell_type": "code",
   "execution_count": 32,
   "id": "1e114228",
   "metadata": {
    "execution": {
     "iopub.execute_input": "2022-07-26T15:34:32.301756Z",
     "iopub.status.busy": "2022-07-26T15:34:32.300938Z",
     "iopub.status.idle": "2022-07-26T15:34:32.306088Z",
     "shell.execute_reply": "2022-07-26T15:34:32.305270Z"
    },
    "papermill": {
     "duration": 0.023879,
     "end_time": "2022-07-26T15:34:32.308515",
     "exception": false,
     "start_time": "2022-07-26T15:34:32.284636",
     "status": "completed"
    },
    "tags": []
   },
   "outputs": [],
   "source": [
    "from sklearn.metrics import accuracy_score"
   ]
  },
  {
   "cell_type": "code",
   "execution_count": 33,
   "id": "23a7b811",
   "metadata": {
    "execution": {
     "iopub.execute_input": "2022-07-26T15:34:32.339090Z",
     "iopub.status.busy": "2022-07-26T15:34:32.338282Z",
     "iopub.status.idle": "2022-07-26T15:34:32.344396Z",
     "shell.execute_reply": "2022-07-26T15:34:32.343528Z"
    },
    "papermill": {
     "duration": 0.024214,
     "end_time": "2022-07-26T15:34:32.346903",
     "exception": false,
     "start_time": "2022-07-26T15:34:32.322689",
     "status": "completed"
    },
    "tags": []
   },
   "outputs": [],
   "source": [
    "test_data_accuracy = accuracy_score(y_predicted,y_test)"
   ]
  },
  {
   "cell_type": "code",
   "execution_count": 34,
   "id": "7deea5ae",
   "metadata": {
    "execution": {
     "iopub.execute_input": "2022-07-26T15:34:32.377731Z",
     "iopub.status.busy": "2022-07-26T15:34:32.376906Z",
     "iopub.status.idle": "2022-07-26T15:34:32.384011Z",
     "shell.execute_reply": "2022-07-26T15:34:32.382905Z"
    },
    "papermill": {
     "duration": 0.025445,
     "end_time": "2022-07-26T15:34:32.386316",
     "exception": false,
     "start_time": "2022-07-26T15:34:32.360871",
     "status": "completed"
    },
    "tags": []
   },
   "outputs": [
    {
     "data": {
      "text/plain": [
       "0.965625"
      ]
     },
     "execution_count": 34,
     "metadata": {},
     "output_type": "execute_result"
    }
   ],
   "source": [
    "#the accuracy score of testing data \n",
    "test_data_accuracy"
   ]
  },
  {
   "cell_type": "code",
   "execution_count": 35,
   "id": "0692ca23",
   "metadata": {
    "execution": {
     "iopub.execute_input": "2022-07-26T15:34:32.417623Z",
     "iopub.status.busy": "2022-07-26T15:34:32.416811Z",
     "iopub.status.idle": "2022-07-26T15:34:32.421951Z",
     "shell.execute_reply": "2022-07-26T15:34:32.421098Z"
    },
    "papermill": {
     "duration": 0.023884,
     "end_time": "2022-07-26T15:34:32.424420",
     "exception": false,
     "start_time": "2022-07-26T15:34:32.400536",
     "status": "completed"
    },
    "tags": []
   },
   "outputs": [],
   "source": [
    "from sklearn.metrics import confusion_matrix"
   ]
  },
  {
   "cell_type": "code",
   "execution_count": 36,
   "id": "8b3b8798",
   "metadata": {
    "execution": {
     "iopub.execute_input": "2022-07-26T15:34:32.454770Z",
     "iopub.status.busy": "2022-07-26T15:34:32.454120Z",
     "iopub.status.idle": "2022-07-26T15:34:32.460475Z",
     "shell.execute_reply": "2022-07-26T15:34:32.459695Z"
    },
    "papermill": {
     "duration": 0.024167,
     "end_time": "2022-07-26T15:34:32.462788",
     "exception": false,
     "start_time": "2022-07-26T15:34:32.438621",
     "status": "completed"
    },
    "tags": []
   },
   "outputs": [],
   "source": [
    "cm = confusion_matrix(y_test , y_predicted)"
   ]
  },
  {
   "cell_type": "code",
   "execution_count": 37,
   "id": "6f353e9e",
   "metadata": {
    "execution": {
     "iopub.execute_input": "2022-07-26T15:34:32.493323Z",
     "iopub.status.busy": "2022-07-26T15:34:32.492681Z",
     "iopub.status.idle": "2022-07-26T15:34:32.699413Z",
     "shell.execute_reply": "2022-07-26T15:34:32.698153Z"
    },
    "papermill": {
     "duration": 0.225192,
     "end_time": "2022-07-26T15:34:32.702203",
     "exception": false,
     "start_time": "2022-07-26T15:34:32.477011",
     "status": "completed"
    },
    "tags": []
   },
   "outputs": [],
   "source": [
    "import seaborn as sns\n",
    "import matplotlib.pyplot as plt"
   ]
  },
  {
   "cell_type": "code",
   "execution_count": 38,
   "id": "aef180b4",
   "metadata": {
    "execution": {
     "iopub.execute_input": "2022-07-26T15:34:32.733146Z",
     "iopub.status.busy": "2022-07-26T15:34:32.732316Z",
     "iopub.status.idle": "2022-07-26T15:34:33.003437Z",
     "shell.execute_reply": "2022-07-26T15:34:33.002011Z"
    },
    "papermill": {
     "duration": 0.289512,
     "end_time": "2022-07-26T15:34:33.006296",
     "exception": false,
     "start_time": "2022-07-26T15:34:32.716784",
     "status": "completed"
    },
    "tags": []
   },
   "outputs": [
    {
     "data": {
      "image/png": "[encoded data removed]",
      "text/plain": [
       "<Figure size 432x288 with 2 Axes>"
      ]
     },
     "metadata": {
      "needs_background": "light"
     },
     "output_type": "display_data"
    }
   ],
   "source": [
    "sns.heatmap(cm , annot =True)\n",
    "plt.xlabel('truth')\n",
    "plt.ylabel('predicted')\n",
    "plt.show()"
   ]
  },
  {
   "cell_type": "code",
   "execution_count": null,
   "id": "b7e815a6",
   "metadata": {
    "papermill": {
     "duration": 0.014625,
     "end_time": "2022-07-26T15:34:33.035444",
     "exception": false,
     "start_time": "2022-07-26T15:34:33.020819",
     "status": "completed"
    },
    "tags": []
   },
   "outputs": [],
   "source": []
  }
 ],
 "metadata": {
  "kernelspec": {
   "display_name": "Python 3",
   "language": "python",
   "name": "python3"
  },
  "language_info": {
   "codemirror_mode": {
    "name": "ipython",
    "version": 3
   },
   "file_extension": ".py",
   "mimetype": "text/x-python",
   "name": "python",
   "nbconvert_exporter": "python",
   "pygments_lexer": "ipython3",
   "version": "3.7.12"
  },
  "papermill": {
   "default_parameters": {},
   "duration": 62.667328,
   "end_time": "2022-07-26T15:34:33.874358",
   "environment_variables": {},
   "exception": null,
   "input_path": "__notebook__.ipynb",
   "output_path": "__notebook__.ipynb",
   "parameters": {},
   "start_time": "2022-07-26T15:33:31.207030",
   "version": "2.3.4"
  }
 },
 "nbformat": 4,
 "nbformat_minor": 5
}
