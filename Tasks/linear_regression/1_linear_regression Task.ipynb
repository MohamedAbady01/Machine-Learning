{
 "cells": [
  {
   "cell_type": "markdown",
   "id": "983bf6b2",
   "metadata": {},
   "source": [
    "<h3>Exercise</h3>\n",
    "\n",
    "Predict canada's per capita income in year 2020. There is an exercise folder here on github at same level as this notebook, download that and you will find canada_per_capita_income.csv file. Using this build a regression model and predict the per capita income fo canadian citizens in year 2020"
   ]
  },
  {
   "cell_type": "markdown",
   "id": "344611a9",
   "metadata": {
    "ExecuteTime": {
     "end_time": "2022-07-02T15:14:01.927564Z",
     "start_time": "2022-07-02T15:14:01.896407Z"
    }
   },
   "source": [
    "<h4>Answer</h4>\n",
    "\n",
    "41288.69409442\n"
   ]
  },
  {
   "cell_type": "code",
   "execution_count": 32,
   "id": "d5dfdd06",
   "metadata": {
    "ExecuteTime": {
     "end_time": "2022-07-02T15:29:56.687334Z",
     "start_time": "2022-07-02T15:29:56.671687Z"
    }
   },
   "outputs": [],
   "source": [
    "import pandas as pd \n",
    "import numpy as np \n",
    "import matplotlib.pyplot as plt\n",
    "from sklearn import linear_model"
   ]
  },
  {
   "cell_type": "code",
   "execution_count": 33,
   "id": "95a0c7d9",
   "metadata": {
    "ExecuteTime": {
     "end_time": "2022-07-02T15:29:58.966658Z",
     "start_time": "2022-07-02T15:29:58.935389Z"
    }
   },
   "outputs": [],
   "source": [
    "df  = pd.read_csv('canada_per_capita_income.csv')"
   ]
  },
  {
   "cell_type": "code",
   "execution_count": 34,
   "id": "352ecc43",
   "metadata": {
    "ExecuteTime": {
     "end_time": "2022-07-02T15:30:00.655836Z",
     "start_time": "2022-07-02T15:30:00.624638Z"
    }
   },
   "outputs": [
    {
     "data": {
      "text/html": [
       "<div>\n",
       "<style scoped>\n",
       "    .dataframe tbody tr th:only-of-type {\n",
       "        vertical-align: middle;\n",
       "    }\n",
       "\n",
       "    .dataframe tbody tr th {\n",
       "        vertical-align: top;\n",
       "    }\n",
       "\n",
       "    .dataframe thead th {\n",
       "        text-align: right;\n",
       "    }\n",
       "</style>\n",
       "<table border=\"1\" class=\"dataframe\">\n",
       "  <thead>\n",
       "    <tr style=\"text-align: right;\">\n",
       "      <th></th>\n",
       "      <th>year</th>\n",
       "      <th>per capita income (US$)</th>\n",
       "    </tr>\n",
       "  </thead>\n",
       "  <tbody>\n",
       "    <tr>\n",
       "      <th>0</th>\n",
       "      <td>1970</td>\n",
       "      <td>3399.299037</td>\n",
       "    </tr>\n",
       "    <tr>\n",
       "      <th>1</th>\n",
       "      <td>1971</td>\n",
       "      <td>3768.297935</td>\n",
       "    </tr>\n",
       "    <tr>\n",
       "      <th>2</th>\n",
       "      <td>1972</td>\n",
       "      <td>4251.175484</td>\n",
       "    </tr>\n",
       "    <tr>\n",
       "      <th>3</th>\n",
       "      <td>1973</td>\n",
       "      <td>4804.463248</td>\n",
       "    </tr>\n",
       "    <tr>\n",
       "      <th>4</th>\n",
       "      <td>1974</td>\n",
       "      <td>5576.514583</td>\n",
       "    </tr>\n",
       "  </tbody>\n",
       "</table>\n",
       "</div>"
      ],
      "text/plain": [
       "   year  per capita income (US$)\n",
       "0  1970              3399.299037\n",
       "1  1971              3768.297935\n",
       "2  1972              4251.175484\n",
       "3  1973              4804.463248\n",
       "4  1974              5576.514583"
      ]
     },
     "execution_count": 34,
     "metadata": {},
     "output_type": "execute_result"
    }
   ],
   "source": [
    "df.head()"
   ]
  },
  {
   "cell_type": "code",
   "execution_count": 38,
   "id": "049e7f0b",
   "metadata": {
    "ExecuteTime": {
     "end_time": "2022-07-02T15:30:25.535261Z",
     "start_time": "2022-07-02T15:30:25.503965Z"
    }
   },
   "outputs": [],
   "source": [
    "df.rename({\n",
    "    'per capita income (US$)' : 'income'\n",
    "},axis = 1 ,inplace=True)"
   ]
  },
  {
   "cell_type": "code",
   "execution_count": 40,
   "id": "7e1c71e3",
   "metadata": {
    "ExecuteTime": {
     "end_time": "2022-07-02T15:30:36.099618Z",
     "start_time": "2022-07-02T15:30:36.077430Z"
    }
   },
   "outputs": [
    {
     "data": {
      "text/html": [
       "<div>\n",
       "<style scoped>\n",
       "    .dataframe tbody tr th:only-of-type {\n",
       "        vertical-align: middle;\n",
       "    }\n",
       "\n",
       "    .dataframe tbody tr th {\n",
       "        vertical-align: top;\n",
       "    }\n",
       "\n",
       "    .dataframe thead th {\n",
       "        text-align: right;\n",
       "    }\n",
       "</style>\n",
       "<table border=\"1\" class=\"dataframe\">\n",
       "  <thead>\n",
       "    <tr style=\"text-align: right;\">\n",
       "      <th></th>\n",
       "      <th>year</th>\n",
       "      <th>income</th>\n",
       "    </tr>\n",
       "  </thead>\n",
       "  <tbody>\n",
       "    <tr>\n",
       "      <th>0</th>\n",
       "      <td>1970</td>\n",
       "      <td>3399.299037</td>\n",
       "    </tr>\n",
       "    <tr>\n",
       "      <th>1</th>\n",
       "      <td>1971</td>\n",
       "      <td>3768.297935</td>\n",
       "    </tr>\n",
       "    <tr>\n",
       "      <th>2</th>\n",
       "      <td>1972</td>\n",
       "      <td>4251.175484</td>\n",
       "    </tr>\n",
       "    <tr>\n",
       "      <th>3</th>\n",
       "      <td>1973</td>\n",
       "      <td>4804.463248</td>\n",
       "    </tr>\n",
       "    <tr>\n",
       "      <th>4</th>\n",
       "      <td>1974</td>\n",
       "      <td>5576.514583</td>\n",
       "    </tr>\n",
       "  </tbody>\n",
       "</table>\n",
       "</div>"
      ],
      "text/plain": [
       "   year       income\n",
       "0  1970  3399.299037\n",
       "1  1971  3768.297935\n",
       "2  1972  4251.175484\n",
       "3  1973  4804.463248\n",
       "4  1974  5576.514583"
      ]
     },
     "execution_count": 40,
     "metadata": {},
     "output_type": "execute_result"
    }
   ],
   "source": [
    "df.head()"
   ]
  },
  {
   "cell_type": "code",
   "execution_count": 41,
   "id": "f46a35a9",
   "metadata": {
    "ExecuteTime": {
     "end_time": "2022-07-02T15:31:05.674523Z",
     "start_time": "2022-07-02T15:31:05.658917Z"
    }
   },
   "outputs": [],
   "source": [
    "x = df.drop(columns='income')"
   ]
  },
  {
   "cell_type": "code",
   "execution_count": 42,
   "id": "4ece96ab",
   "metadata": {
    "ExecuteTime": {
     "end_time": "2022-07-02T15:31:18.044224Z",
     "start_time": "2022-07-02T15:31:18.028694Z"
    }
   },
   "outputs": [],
   "source": [
    "y = df.income"
   ]
  },
  {
   "cell_type": "code",
   "execution_count": 43,
   "id": "f3c1b2cb",
   "metadata": {
    "ExecuteTime": {
     "end_time": "2022-07-02T15:31:20.920172Z",
     "start_time": "2022-07-02T15:31:20.875833Z"
    }
   },
   "outputs": [],
   "source": [
    "model = linear_model.LinearRegression()"
   ]
  },
  {
   "cell_type": "code",
   "execution_count": 47,
   "id": "a6b10502",
   "metadata": {
    "ExecuteTime": {
     "end_time": "2022-07-02T15:31:44.434132Z",
     "start_time": "2022-07-02T15:31:44.418510Z"
    }
   },
   "outputs": [
    {
     "data": {
      "text/plain": [
       "LinearRegression()"
      ]
     },
     "execution_count": 47,
     "metadata": {},
     "output_type": "execute_result"
    }
   ],
   "source": [
    "model.fit(x,y)"
   ]
  },
  {
   "cell_type": "code",
   "execution_count": 50,
   "id": "5867de96",
   "metadata": {
    "ExecuteTime": {
     "end_time": "2022-07-02T15:32:48.285886Z",
     "start_time": "2022-07-02T15:32:48.254644Z"
    }
   },
   "outputs": [
    {
     "data": {
      "text/plain": [
       "array([41288.69409442])"
      ]
     },
     "execution_count": 50,
     "metadata": {},
     "output_type": "execute_result"
    }
   ],
   "source": [
    "model.predict([[2020]])"
   ]
  },
  {
   "cell_type": "code",
   "execution_count": 51,
   "id": "535084a5",
   "metadata": {
    "ExecuteTime": {
     "end_time": "2022-07-02T15:33:08.637999Z",
     "start_time": "2022-07-02T15:33:08.606967Z"
    }
   },
   "outputs": [
    {
     "data": {
      "text/plain": [
       "0.890916917957032"
      ]
     },
     "execution_count": 51,
     "metadata": {},
     "output_type": "execute_result"
    }
   ],
   "source": [
    "model.score(x,y)"
   ]
  },
  {
   "cell_type": "code",
   "execution_count": 56,
   "id": "1a246f44",
   "metadata": {
    "ExecuteTime": {
     "end_time": "2022-07-02T15:50:22.575615Z",
     "start_time": "2022-07-02T15:50:21.341204Z"
    }
   },
   "outputs": [],
   "source": [
    "#save the model bonus \n",
    "import joblib"
   ]
  },
  {
   "cell_type": "code",
   "execution_count": 57,
   "id": "ea41e81c",
   "metadata": {
    "ExecuteTime": {
     "end_time": "2022-07-02T15:51:25.859551Z",
     "start_time": "2022-07-02T15:51:24.171589Z"
    }
   },
   "outputs": [
    {
     "data": {
      "text/plain": [
       "['Canda income model']"
      ]
     },
     "execution_count": 57,
     "metadata": {},
     "output_type": "execute_result"
    }
   ],
   "source": [
    "joblib.dump(model,'Canda income model')"
   ]
  },
  {
   "cell_type": "code",
   "execution_count": 59,
   "id": "686e076e",
   "metadata": {
    "ExecuteTime": {
     "end_time": "2022-07-02T16:00:09.948512Z",
     "start_time": "2022-07-02T16:00:07.163252Z"
    }
   },
   "outputs": [
    {
     "data": {
      "image/png": "[encoded data removed]",
      "text/plain": [
       "<Figure size 432x288 with 1 Axes>"
      ]
     },
     "metadata": {
      "needs_background": "light"
     },
     "output_type": "display_data"
    }
   ],
   "source": [
    "#visualization\n",
    "plt.scatter(x,y,marker='*')\n",
    "plt.xlabel('year')\n",
    "plt.ylabel('per capita income (US$)')\n",
    "plt.show()"
   ]
  },
  {
   "cell_type": "code",
   "execution_count": null,
   "id": "52f754d3",
   "metadata": {},
   "outputs": [],
   "source": []
  }
 ],
 "metadata": {
  "kernelspec": {
   "display_name": "Python 3 (ipykernel)",
   "language": "python",
   "name": "python3"
  },
  "language_info": {
   "codemirror_mode": {
    "name": "ipython",
    "version": 3
   },
   "file_extension": ".py",
   "mimetype": "text/x-python",
   "name": "python",
   "nbconvert_exporter": "python",
   "pygments_lexer": "ipython3",
   "version": "3.9.7"
  }
 },
 "nbformat": 4,
 "nbformat_minor": 5
}
