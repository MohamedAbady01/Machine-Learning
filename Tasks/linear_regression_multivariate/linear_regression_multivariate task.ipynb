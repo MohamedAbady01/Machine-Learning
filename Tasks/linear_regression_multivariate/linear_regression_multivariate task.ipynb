{
 "cells": [
  {
   "cell_type": "markdown",
   "id": "16bbd0a6",
   "metadata": {},
   "source": [
    "<h4>Exercise</h4>\n",
    "\n",
    "In exercise folder (same level as this notebook on github) there is hiring.csv. This file contains hiring statics for a firm such as experience of candidate, his written test score and personal interview score. Based on these 3 factors, HR will decide the salary. Given this data, you need to build a machine learning model for HR department that can help them decide salaries for future candidates. Using this predict salaries for following candidates,"
   ]
  },
  {
   "cell_type": "markdown",
   "id": "25eac6d1",
   "metadata": {},
   "source": [
    "2 yr experience, 9 test score, 6 interview score\n",
    "\n",
    "12 yr experience, 10 test score, 10 interview score"
   ]
  },
  {
   "cell_type": "code",
   "execution_count": 47,
   "id": "ba8cd7f5",
   "metadata": {
    "ExecuteTime": {
     "end_time": "2022-07-02T16:15:08.479099Z",
     "start_time": "2022-07-02T16:15:08.463475Z"
    }
   },
   "outputs": [],
   "source": [
    "import pandas as pd \n",
    "import numpy as np \n",
    "import matplotlib.pyplot as plt \n",
    "from sklearn import linear_model"
   ]
  },
  {
   "cell_type": "code",
   "execution_count": 48,
   "id": "fb1f6c82",
   "metadata": {
    "ExecuteTime": {
     "end_time": "2022-07-02T16:15:10.197089Z",
     "start_time": "2022-07-02T16:15:10.159302Z"
    }
   },
   "outputs": [],
   "source": [
    "df = pd.read_csv('hiring.csv')"
   ]
  },
  {
   "cell_type": "code",
   "execution_count": 49,
   "id": "bac2c16c",
   "metadata": {
    "ExecuteTime": {
     "end_time": "2022-07-02T16:15:11.678926Z",
     "start_time": "2022-07-02T16:15:11.632072Z"
    }
   },
   "outputs": [
    {
     "data": {
      "text/html": [
       "<div>\n",
       "<style scoped>\n",
       "    .dataframe tbody tr th:only-of-type {\n",
       "        vertical-align: middle;\n",
       "    }\n",
       "\n",
       "    .dataframe tbody tr th {\n",
       "        vertical-align: top;\n",
       "    }\n",
       "\n",
       "    .dataframe thead th {\n",
       "        text-align: right;\n",
       "    }\n",
       "</style>\n",
       "<table border=\"1\" class=\"dataframe\">\n",
       "  <thead>\n",
       "    <tr style=\"text-align: right;\">\n",
       "      <th></th>\n",
       "      <th>experience</th>\n",
       "      <th>test_score(out of 10)</th>\n",
       "      <th>interview_score(out of 10)</th>\n",
       "      <th>salary($)</th>\n",
       "    </tr>\n",
       "  </thead>\n",
       "  <tbody>\n",
       "    <tr>\n",
       "      <th>0</th>\n",
       "      <td>NaN</td>\n",
       "      <td>8.0</td>\n",
       "      <td>9</td>\n",
       "      <td>50000</td>\n",
       "    </tr>\n",
       "    <tr>\n",
       "      <th>1</th>\n",
       "      <td>NaN</td>\n",
       "      <td>8.0</td>\n",
       "      <td>6</td>\n",
       "      <td>45000</td>\n",
       "    </tr>\n",
       "    <tr>\n",
       "      <th>2</th>\n",
       "      <td>five</td>\n",
       "      <td>6.0</td>\n",
       "      <td>7</td>\n",
       "      <td>60000</td>\n",
       "    </tr>\n",
       "    <tr>\n",
       "      <th>3</th>\n",
       "      <td>two</td>\n",
       "      <td>10.0</td>\n",
       "      <td>10</td>\n",
       "      <td>65000</td>\n",
       "    </tr>\n",
       "    <tr>\n",
       "      <th>4</th>\n",
       "      <td>seven</td>\n",
       "      <td>9.0</td>\n",
       "      <td>6</td>\n",
       "      <td>70000</td>\n",
       "    </tr>\n",
       "  </tbody>\n",
       "</table>\n",
       "</div>"
      ],
      "text/plain": [
       "  experience  test_score(out of 10)  interview_score(out of 10)  salary($)\n",
       "0        NaN                    8.0                           9      50000\n",
       "1        NaN                    8.0                           6      45000\n",
       "2       five                    6.0                           7      60000\n",
       "3        two                   10.0                          10      65000\n",
       "4      seven                    9.0                           6      70000"
      ]
     },
     "execution_count": 49,
     "metadata": {},
     "output_type": "execute_result"
    }
   ],
   "source": [
    "df.head()"
   ]
  },
  {
   "cell_type": "code",
   "execution_count": 50,
   "id": "dd548db5",
   "metadata": {
    "ExecuteTime": {
     "end_time": "2022-07-02T16:15:15.056526Z",
     "start_time": "2022-07-02T16:15:15.040921Z"
    }
   },
   "outputs": [],
   "source": [
    "#fill nan values\n",
    "df.experience.fillna('zero',inplace=True)"
   ]
  },
  {
   "cell_type": "code",
   "execution_count": 51,
   "id": "0a0ef7d1",
   "metadata": {
    "ExecuteTime": {
     "end_time": "2022-07-02T16:15:18.449017Z",
     "start_time": "2022-07-02T16:15:18.417793Z"
    }
   },
   "outputs": [],
   "source": [
    "df[df.columns[1]].fillna(df[df.columns[1]].min(),inplace=True)"
   ]
  },
  {
   "cell_type": "markdown",
   "id": "9a14b316",
   "metadata": {},
   "source": [
    "conda install -c conda-forge word2numbe"
   ]
  },
  {
   "cell_type": "code",
   "execution_count": 52,
   "id": "4785c654",
   "metadata": {
    "ExecuteTime": {
     "end_time": "2022-07-02T16:15:20.584283Z",
     "start_time": "2022-07-02T16:15:20.568739Z"
    }
   },
   "outputs": [],
   "source": [
    "#important lib >>\n",
    "from word2number import w2n\n",
    "df.experience = df.experience.apply(w2n.word_to_num)"
   ]
  },
  {
   "cell_type": "code",
   "execution_count": 40,
   "id": "89ab1d31",
   "metadata": {
    "ExecuteTime": {
     "end_time": "2022-07-02T16:13:13.624869Z",
     "start_time": "2022-07-02T16:13:13.602667Z"
    }
   },
   "outputs": [
    {
     "ename": "SyntaxError",
     "evalue": "EOL while scanning string literal (Temp/ipykernel_2136/1914073717.py, line 1)",
     "output_type": "error",
     "traceback": [
      "\u001b[1;36m  File \u001b[1;32m\"C:\\Users\\moels\\AppData\\Local\\Temp/ipykernel_2136/1914073717.py\"\u001b[1;36m, line \u001b[1;32m1\u001b[0m\n\u001b[1;33m    df['test_score(out of 10)''\u001b[0m\n\u001b[1;37m                               ^\u001b[0m\n\u001b[1;31mSyntaxError\u001b[0m\u001b[1;31m:\u001b[0m EOL while scanning string literal\n"
     ]
    }
   ],
   "source": []
  },
  {
   "cell_type": "code",
   "execution_count": 53,
   "id": "cada8f18",
   "metadata": {
    "ExecuteTime": {
     "end_time": "2022-07-02T16:15:24.274654Z",
     "start_time": "2022-07-02T16:15:24.243454Z"
    }
   },
   "outputs": [
    {
     "data": {
      "text/html": [
       "<div>\n",
       "<style scoped>\n",
       "    .dataframe tbody tr th:only-of-type {\n",
       "        vertical-align: middle;\n",
       "    }\n",
       "\n",
       "    .dataframe tbody tr th {\n",
       "        vertical-align: top;\n",
       "    }\n",
       "\n",
       "    .dataframe thead th {\n",
       "        text-align: right;\n",
       "    }\n",
       "</style>\n",
       "<table border=\"1\" class=\"dataframe\">\n",
       "  <thead>\n",
       "    <tr style=\"text-align: right;\">\n",
       "      <th></th>\n",
       "      <th>experience</th>\n",
       "      <th>test_score(out of 10)</th>\n",
       "      <th>interview_score(out of 10)</th>\n",
       "      <th>salary($)</th>\n",
       "    </tr>\n",
       "  </thead>\n",
       "  <tbody>\n",
       "    <tr>\n",
       "      <th>0</th>\n",
       "      <td>0</td>\n",
       "      <td>8.0</td>\n",
       "      <td>9</td>\n",
       "      <td>50000</td>\n",
       "    </tr>\n",
       "    <tr>\n",
       "      <th>1</th>\n",
       "      <td>0</td>\n",
       "      <td>8.0</td>\n",
       "      <td>6</td>\n",
       "      <td>45000</td>\n",
       "    </tr>\n",
       "    <tr>\n",
       "      <th>2</th>\n",
       "      <td>5</td>\n",
       "      <td>6.0</td>\n",
       "      <td>7</td>\n",
       "      <td>60000</td>\n",
       "    </tr>\n",
       "    <tr>\n",
       "      <th>3</th>\n",
       "      <td>2</td>\n",
       "      <td>10.0</td>\n",
       "      <td>10</td>\n",
       "      <td>65000</td>\n",
       "    </tr>\n",
       "    <tr>\n",
       "      <th>4</th>\n",
       "      <td>7</td>\n",
       "      <td>9.0</td>\n",
       "      <td>6</td>\n",
       "      <td>70000</td>\n",
       "    </tr>\n",
       "  </tbody>\n",
       "</table>\n",
       "</div>"
      ],
      "text/plain": [
       "   experience  test_score(out of 10)  interview_score(out of 10)  salary($)\n",
       "0           0                    8.0                           9      50000\n",
       "1           0                    8.0                           6      45000\n",
       "2           5                    6.0                           7      60000\n",
       "3           2                   10.0                          10      65000\n",
       "4           7                    9.0                           6      70000"
      ]
     },
     "execution_count": 53,
     "metadata": {},
     "output_type": "execute_result"
    }
   ],
   "source": [
    "df.head()"
   ]
  },
  {
   "cell_type": "code",
   "execution_count": 54,
   "id": "6a902926",
   "metadata": {
    "ExecuteTime": {
     "end_time": "2022-07-02T16:15:26.931075Z",
     "start_time": "2022-07-02T16:15:26.915416Z"
    }
   },
   "outputs": [],
   "source": [
    "x = df.drop(columns='salary($)')"
   ]
  },
  {
   "cell_type": "code",
   "execution_count": 55,
   "id": "d8c8c189",
   "metadata": {
    "ExecuteTime": {
     "end_time": "2022-07-02T16:15:29.484401Z",
     "start_time": "2022-07-02T16:15:29.468752Z"
    }
   },
   "outputs": [],
   "source": [
    "y= df['salary($)']"
   ]
  },
  {
   "cell_type": "code",
   "execution_count": 56,
   "id": "4fd0fffc",
   "metadata": {
    "ExecuteTime": {
     "end_time": "2022-07-02T16:15:32.058422Z",
     "start_time": "2022-07-02T16:15:32.042960Z"
    }
   },
   "outputs": [],
   "source": [
    "from sklearn import linear_model"
   ]
  },
  {
   "cell_type": "code",
   "execution_count": 24,
   "id": "00826243",
   "metadata": {
    "ExecuteTime": {
     "end_time": "2022-07-02T16:07:40.291160Z",
     "start_time": "2022-07-02T16:07:40.275491Z"
    }
   },
   "outputs": [],
   "source": [
    "model = linear_model.LinearRegression()"
   ]
  },
  {
   "cell_type": "code",
   "execution_count": 57,
   "id": "4e5204d9",
   "metadata": {
    "ExecuteTime": {
     "end_time": "2022-07-02T16:16:01.455563Z",
     "start_time": "2022-07-02T16:16:00.505581Z"
    }
   },
   "outputs": [
    {
     "data": {
      "text/plain": [
       "LinearRegression()"
      ]
     },
     "execution_count": 57,
     "metadata": {},
     "output_type": "execute_result"
    }
   ],
   "source": [
    "model.fit(x,y)"
   ]
  },
  {
   "cell_type": "code",
   "execution_count": 59,
   "id": "1a4cb31b",
   "metadata": {
    "ExecuteTime": {
     "end_time": "2022-07-02T16:17:00.344935Z",
     "start_time": "2022-07-02T16:17:00.316938Z"
    }
   },
   "outputs": [
    {
     "data": {
      "text/plain": [
       "array([53922.45707556])"
      ]
     },
     "execution_count": 59,
     "metadata": {},
     "output_type": "execute_result"
    }
   ],
   "source": [
    "model.predict([[2,9,6]])"
   ]
  },
  {
   "cell_type": "code",
   "execution_count": 60,
   "id": "37e07b55",
   "metadata": {
    "ExecuteTime": {
     "end_time": "2022-07-02T16:17:44.889641Z",
     "start_time": "2022-07-02T16:17:44.874027Z"
    }
   },
   "outputs": [
    {
     "data": {
      "text/plain": [
       "array([94857.62102523])"
      ]
     },
     "execution_count": 60,
     "metadata": {},
     "output_type": "execute_result"
    }
   ],
   "source": [
    "model.predict([[12,10,10]])"
   ]
  },
  {
   "cell_type": "code",
   "execution_count": 62,
   "id": "a5db5fad",
   "metadata": {
    "ExecuteTime": {
     "end_time": "2022-07-02T16:18:08.637373Z",
     "start_time": "2022-07-02T16:18:08.599569Z"
    }
   },
   "outputs": [
    {
     "data": {
      "text/plain": [
       "0.9870378236845745"
      ]
     },
     "execution_count": 62,
     "metadata": {},
     "output_type": "execute_result"
    }
   ],
   "source": [
    "model.score(x,y)"
   ]
  },
  {
   "cell_type": "code",
   "execution_count": null,
   "id": "31ca3d1e",
   "metadata": {},
   "outputs": [],
   "source": []
  }
 ],
 "metadata": {
  "kernelspec": {
   "display_name": "Python 3 (ipykernel)",
   "language": "python",
   "name": "python3"
  },
  "language_info": {
   "codemirror_mode": {
    "name": "ipython",
    "version": 3
   },
   "file_extension": ".py",
   "mimetype": "text/x-python",
   "name": "python",
   "nbconvert_exporter": "python",
   "pygments_lexer": "ipython3",
   "version": "3.9.7"
  }
 },
 "nbformat": 4,
 "nbformat_minor": 5
}
