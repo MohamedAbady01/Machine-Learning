{
 "cells": [
  {
   "cell_type": "markdown",
   "id": "c4375cfb",
   "metadata": {},
   "source": [
    "\n",
    "<h1>Exercise</h1>"
   ]
  },
  {
   "cell_type": "markdown",
   "id": "26f1700e",
   "metadata": {},
   "source": [
    "Train SVM classifier using sklearn digits dataset (i.e. from sklearn.datasets import load_digits) and then,\n",
    "\n",
    "1. Measure accuracy of your model using different kernels such as rbf and linear.\n",
    "2. Tune your model further using regularization and gamma parameters and try to come up with highest accurancy score\n",
    "3. Use 80% of samples as training data size"
   ]
  },
  {
   "cell_type": "code",
   "execution_count": 47,
   "id": "40c838c9",
   "metadata": {
    "ExecuteTime": {
     "end_time": "2022-09-14T15:48:14.718643Z",
     "start_time": "2022-09-14T15:48:14.712644Z"
    }
   },
   "outputs": [],
   "source": [
    "import pandas as pd \n",
    "import numpy as np \n",
    "from sklearn.datasets import load_digits "
   ]
  },
  {
   "cell_type": "code",
   "execution_count": 48,
   "id": "f146b021",
   "metadata": {
    "ExecuteTime": {
     "end_time": "2022-09-14T15:48:15.189929Z",
     "start_time": "2022-09-14T15:48:14.946356Z"
    }
   },
   "outputs": [],
   "source": [
    "data = load_digits()"
   ]
  },
  {
   "cell_type": "code",
   "execution_count": 49,
   "id": "89a0ca7e",
   "metadata": {
    "ExecuteTime": {
     "end_time": "2022-09-14T15:48:15.221981Z",
     "start_time": "2022-09-14T15:48:15.206982Z"
    }
   },
   "outputs": [],
   "source": [
    "x= data.data\n",
    "y=data.target"
   ]
  },
  {
   "cell_type": "code",
   "execution_count": 50,
   "id": "ef0aecdb",
   "metadata": {
    "ExecuteTime": {
     "end_time": "2022-09-14T15:48:15.639807Z",
     "start_time": "2022-09-14T15:48:15.623805Z"
    }
   },
   "outputs": [],
   "source": [
    "from sklearn.model_selection import train_test_split"
   ]
  },
  {
   "cell_type": "code",
   "execution_count": 51,
   "id": "1dc17111",
   "metadata": {
    "ExecuteTime": {
     "end_time": "2022-09-14T15:48:15.950770Z",
     "start_time": "2022-09-14T15:48:15.940768Z"
    }
   },
   "outputs": [],
   "source": [
    "x_train , x_test , y_train , y_test = train_test_split(x,y,test_size=.2,random_state=11)"
   ]
  },
  {
   "cell_type": "code",
   "execution_count": 52,
   "id": "6debe394",
   "metadata": {
    "ExecuteTime": {
     "end_time": "2022-09-14T15:48:16.140666Z",
     "start_time": "2022-09-14T15:48:16.127733Z"
    }
   },
   "outputs": [
    {
     "name": "stdout",
     "output_type": "stream",
     "text": [
      "(1437, 64) (360, 64)\n"
     ]
    }
   ],
   "source": [
    "print (x_train.shape,x_test.shape)"
   ]
  },
  {
   "cell_type": "code",
   "execution_count": 53,
   "id": "27017827",
   "metadata": {
    "ExecuteTime": {
     "end_time": "2022-09-14T15:48:16.330236Z",
     "start_time": "2022-09-14T15:48:16.317235Z"
    }
   },
   "outputs": [],
   "source": [
    "from sklearn.svm import SVC"
   ]
  },
  {
   "cell_type": "code",
   "execution_count": 54,
   "id": "8e7d3a38",
   "metadata": {
    "ExecuteTime": {
     "end_time": "2022-09-14T15:48:16.538236Z",
     "start_time": "2022-09-14T15:48:16.525235Z"
    }
   },
   "outputs": [],
   "source": [
    "model_rbf = SVC(kernel='rbf')"
   ]
  },
  {
   "cell_type": "code",
   "execution_count": 55,
   "id": "3b4dbcf7",
   "metadata": {
    "ExecuteTime": {
     "end_time": "2022-09-14T15:48:17.438293Z",
     "start_time": "2022-09-14T15:48:16.710291Z"
    },
    "run_control": {
     "marked": true
    }
   },
   "outputs": [
    {
     "name": "stdout",
     "output_type": "stream",
     "text": [
      "the accuracy of the trained data : 0.9958246346555324\n",
      "the accuracy of the tested data : 0.9861111111111112\n"
     ]
    }
   ],
   "source": [
    "model_rbf.fit(x_train,y_train)\n",
    "print('the accuracy of the trained data :',model_rbf.score(x_train,y_train))\n",
    "print('the accuracy of the tested data :',model_rbf.score(x_test,y_test))"
   ]
  },
  {
   "cell_type": "code",
   "execution_count": 56,
   "id": "56f39783",
   "metadata": {
    "ExecuteTime": {
     "end_time": "2022-09-14T15:48:17.454258Z",
     "start_time": "2022-09-14T15:48:17.443291Z"
    }
   },
   "outputs": [],
   "source": [
    "model_linear = SVC(kernel='linear')"
   ]
  },
  {
   "cell_type": "code",
   "execution_count": 57,
   "id": "f85a1ab8",
   "metadata": {
    "ExecuteTime": {
     "end_time": "2022-09-14T15:48:17.674292Z",
     "start_time": "2022-09-14T15:48:17.462294Z"
    }
   },
   "outputs": [
    {
     "name": "stdout",
     "output_type": "stream",
     "text": [
      "the accuracy of the trained data : 1.0\n",
      "the accuracy of the tested data : 0.975\n"
     ]
    }
   ],
   "source": [
    "model_linear.fit(x_train,y_train)\n",
    "print('the accuracy of the trained data :',model_linear.score(x_train,y_train))\n",
    "print('the accuracy of the tested data :',model_linear.score(x_test,y_test))"
   ]
  },
  {
   "cell_type": "code",
   "execution_count": 58,
   "id": "1238e840",
   "metadata": {
    "ExecuteTime": {
     "end_time": "2022-09-14T15:49:42.769498Z",
     "start_time": "2022-09-14T15:48:17.680292Z"
    }
   },
   "outputs": [
    {
     "name": "stdout",
     "output_type": "stream",
     "text": [
      "the accuracy of the trained data : 1.0\n",
      "the accuracy of the tested data : 0.075\n",
      "##################################################\n",
      "the accuracy of the trained data : 1.0\n",
      "the accuracy of the tested data : 0.075\n",
      "##################################################\n",
      "the accuracy of the trained data : 1.0\n",
      "the accuracy of the tested data : 0.075\n",
      "##################################################\n",
      "the accuracy of the trained data : 1.0\n",
      "the accuracy of the tested data : 0.075\n",
      "##################################################\n",
      "the accuracy of the trained data : 1.0\n",
      "the accuracy of the tested data : 0.075\n",
      "##################################################\n",
      "the accuracy of the trained data : 1.0\n",
      "the accuracy of the tested data : 0.075\n",
      "##################################################\n",
      "the accuracy of the trained data : 1.0\n",
      "the accuracy of the tested data : 0.075\n",
      "##################################################\n",
      "the accuracy of the trained data : 1.0\n",
      "the accuracy of the tested data : 0.075\n",
      "##################################################\n",
      "the accuracy of the trained data : 1.0\n",
      "the accuracy of the tested data : 0.075\n",
      "##################################################\n",
      "the accuracy of the trained data : 1.0\n",
      "the accuracy of the tested data : 0.075\n",
      "##################################################\n",
      "the accuracy of the trained data : 1.0\n",
      "the accuracy of the tested data : 0.075\n",
      "##################################################\n",
      "the accuracy of the trained data : 1.0\n",
      "the accuracy of the tested data : 0.075\n",
      "##################################################\n",
      "the accuracy of the trained data : 1.0\n",
      "the accuracy of the tested data : 0.075\n",
      "##################################################\n",
      "the accuracy of the trained data : 1.0\n",
      "the accuracy of the tested data : 0.075\n",
      "##################################################\n",
      "the accuracy of the trained data : 1.0\n",
      "the accuracy of the tested data : 0.075\n",
      "##################################################\n",
      "the accuracy of the trained data : 1.0\n",
      "the accuracy of the tested data : 0.075\n",
      "##################################################\n",
      "the accuracy of the trained data : 1.0\n",
      "the accuracy of the tested data : 0.075\n",
      "##################################################\n",
      "the accuracy of the trained data : 1.0\n",
      "the accuracy of the tested data : 0.075\n",
      "##################################################\n",
      "the accuracy of the trained data : 1.0\n",
      "the accuracy of the tested data : 0.075\n",
      "##################################################\n",
      "the accuracy of the trained data : 1.0\n",
      "the accuracy of the tested data : 0.075\n",
      "##################################################\n",
      "the accuracy of the trained data : 1.0\n",
      "the accuracy of the tested data : 0.075\n",
      "##################################################\n",
      "the accuracy of the trained data : 1.0\n",
      "the accuracy of the tested data : 0.075\n",
      "##################################################\n",
      "the accuracy of the trained data : 1.0\n",
      "the accuracy of the tested data : 0.075\n",
      "##################################################\n",
      "the accuracy of the trained data : 1.0\n",
      "the accuracy of the tested data : 0.075\n",
      "##################################################\n",
      "the accuracy of the trained data : 1.0\n",
      "the accuracy of the tested data : 0.075\n",
      "##################################################\n",
      "the accuracy of the trained data : 1.0\n",
      "the accuracy of the tested data : 0.075\n",
      "##################################################\n",
      "the accuracy of the trained data : 1.0\n",
      "the accuracy of the tested data : 0.075\n",
      "##################################################\n",
      "the accuracy of the trained data : 1.0\n",
      "the accuracy of the tested data : 0.075\n",
      "##################################################\n",
      "the accuracy of the trained data : 1.0\n",
      "the accuracy of the tested data : 0.075\n",
      "##################################################\n",
      "the accuracy of the trained data : 1.0\n",
      "the accuracy of the tested data : 0.075\n",
      "##################################################\n",
      "the accuracy of the trained data : 1.0\n",
      "the accuracy of the tested data : 0.075\n",
      "##################################################\n",
      "the accuracy of the trained data : 1.0\n",
      "the accuracy of the tested data : 0.075\n",
      "##################################################\n",
      "the accuracy of the trained data : 1.0\n",
      "the accuracy of the tested data : 0.075\n",
      "##################################################\n",
      "the accuracy of the trained data : 1.0\n",
      "the accuracy of the tested data : 0.075\n",
      "##################################################\n",
      "the accuracy of the trained data : 1.0\n",
      "the accuracy of the tested data : 0.075\n",
      "##################################################\n",
      "the accuracy of the trained data : 1.0\n",
      "the accuracy of the tested data : 0.075\n",
      "##################################################\n"
     ]
    }
   ],
   "source": [
    "for i in range(1,7):\n",
    "    for k in range(2,8):\n",
    "        model_reg = SVC(C=i,gamma=k)\n",
    "        model_reg.fit(x_train,y_train)\n",
    "        print('the accuracy of the trained data :',model_reg.score(x_train,y_train))\n",
    "        print('the accuracy of the tested data :',model_reg.score(x_test,y_test))\n",
    "        print(50*'#')\n",
    "        \n",
    "        \n",
    "    \n",
    "    \n"
   ]
  },
  {
   "cell_type": "code",
   "execution_count": null,
   "id": "575ec6bd",
   "metadata": {},
   "outputs": [],
   "source": []
  },
  {
   "cell_type": "code",
   "execution_count": null,
   "id": "833fa0ac",
   "metadata": {},
   "outputs": [],
   "source": []
  }
 ],
 "metadata": {
  "kernelspec": {
   "display_name": "Python 3 (ipykernel)",
   "language": "python",
   "name": "python3"
  },
  "language_info": {
   "codemirror_mode": {
    "name": "ipython",
    "version": 3
   },
   "file_extension": ".py",
   "mimetype": "text/x-python",
   "name": "python",
   "nbconvert_exporter": "python",
   "pygments_lexer": "ipython3",
   "version": "3.9.7"
  }
 },
 "nbformat": 4,
 "nbformat_minor": 5
}
